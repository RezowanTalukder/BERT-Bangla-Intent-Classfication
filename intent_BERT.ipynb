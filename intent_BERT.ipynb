{
  "nbformat": 4,
  "nbformat_minor": 0,
  "metadata": {
    "colab": {
      "name": "intent_BERT.ipynb",
      "provenance": [],
      "collapsed_sections": [],
      "authorship_tag": "ABX9TyOq0MKLGm2pH/0U8FxHP8co",
      "include_colab_link": true
    },
    "kernelspec": {
      "name": "python3",
      "display_name": "Python 3"
    }
  },
  "cells": [
    {
      "cell_type": "markdown",
      "metadata": {
        "id": "view-in-github",
        "colab_type": "text"
      },
      "source": [
        "<a href=\"https://colab.research.google.com/github/RezowanTalukder/BERT-Bangla-Intent-Classfication/blob/main/intent_BERT.ipynb\" target=\"_parent\"><img src=\"https://colab.research.google.com/assets/colab-badge.svg\" alt=\"Open In Colab\"/></a>"
      ]
    },
    {
      "cell_type": "code",
      "metadata": {
        "id": "J36u_oXR6kgS",
        "outputId": "2229ce77-ce6b-47f9-ed2a-1d8ba4b5b8a6",
        "colab": {
          "base_uri": "https://localhost:8080/"
        }
      },
      "source": [
        "pip install bert-for-tf2"
      ],
      "execution_count": 1,
      "outputs": [
        {
          "output_type": "stream",
          "text": [
            "Collecting bert-for-tf2\n",
            "\u001b[?25l  Downloading https://files.pythonhosted.org/packages/18/d3/820ccaf55f1e24b5dd43583ac0da6d86c2d27bbdfffadbba69bafe73ca93/bert-for-tf2-0.14.7.tar.gz (41kB)\n",
            "\r\u001b[K     |████████                        | 10kB 18.6MB/s eta 0:00:01\r\u001b[K     |████████████████                | 20kB 1.8MB/s eta 0:00:01\r\u001b[K     |███████████████████████▉        | 30kB 2.3MB/s eta 0:00:01\r\u001b[K     |███████████████████████████████▉| 40kB 2.6MB/s eta 0:00:01\r\u001b[K     |████████████████████████████████| 51kB 2.2MB/s \n",
            "\u001b[?25hCollecting py-params>=0.9.6\n",
            "  Downloading https://files.pythonhosted.org/packages/a4/bf/c1c70d5315a8677310ea10a41cfc41c5970d9b37c31f9c90d4ab98021fd1/py-params-0.9.7.tar.gz\n",
            "Collecting params-flow>=0.8.0\n",
            "  Downloading https://files.pythonhosted.org/packages/a9/95/ff49f5ebd501f142a6f0aaf42bcfd1c192dc54909d1d9eb84ab031d46056/params-flow-0.8.2.tar.gz\n",
            "Requirement already satisfied: numpy in /usr/local/lib/python3.6/dist-packages (from params-flow>=0.8.0->bert-for-tf2) (1.18.5)\n",
            "Requirement already satisfied: tqdm in /usr/local/lib/python3.6/dist-packages (from params-flow>=0.8.0->bert-for-tf2) (4.41.1)\n",
            "Building wheels for collected packages: bert-for-tf2, py-params, params-flow\n",
            "  Building wheel for bert-for-tf2 (setup.py) ... \u001b[?25l\u001b[?25hdone\n",
            "  Created wheel for bert-for-tf2: filename=bert_for_tf2-0.14.7-cp36-none-any.whl size=30539 sha256=860b3c38f89634fbff19356bbd2845b4abb03e7681ff6c30495f189acf4cc17b\n",
            "  Stored in directory: /root/.cache/pip/wheels/e1/f8/e2/b98f79a6b8cc898d8e4102b83acb8a098df7d27500a2bac912\n",
            "  Building wheel for py-params (setup.py) ... \u001b[?25l\u001b[?25hdone\n",
            "  Created wheel for py-params: filename=py_params-0.9.7-cp36-none-any.whl size=7304 sha256=b9ee25ff1668bf1f9395fc42a21092b942a8bb283bd0b7cf78b3b13ac9b1c899\n",
            "  Stored in directory: /root/.cache/pip/wheels/67/f5/19/b461849a50aefdf4bab47c4756596e82ee2118b8278e5a1980\n",
            "  Building wheel for params-flow (setup.py) ... \u001b[?25l\u001b[?25hdone\n",
            "  Created wheel for params-flow: filename=params_flow-0.8.2-cp36-none-any.whl size=19475 sha256=dd75656218557a95f2bf2da29180433180ae3f623a51ce135f96b2979315a8d3\n",
            "  Stored in directory: /root/.cache/pip/wheels/08/c8/7f/81c86b9ff2b86e2c477e3914175be03e679e596067dc630c06\n",
            "Successfully built bert-for-tf2 py-params params-flow\n",
            "Installing collected packages: py-params, params-flow, bert-for-tf2\n",
            "Successfully installed bert-for-tf2-0.14.7 params-flow-0.8.2 py-params-0.9.7\n"
          ],
          "name": "stdout"
        }
      ]
    },
    {
      "cell_type": "code",
      "metadata": {
        "id": "VLPwBaua6jf2",
        "outputId": "31678413-89d7-46d8-a06c-034809a712c7",
        "colab": {
          "base_uri": "https://localhost:8080/"
        }
      },
      "source": [
        "import os\n",
        "import math\n",
        "import datetime\n",
        "\n",
        "from tqdm import tqdm\n",
        "\n",
        "import pandas as pd\n",
        "import numpy as np\n",
        "\n",
        "import tensorflow as tf\n",
        "from tensorflow import keras\n",
        "\n",
        "import bert\n",
        "from bert import BertModelLayer\n",
        "from bert.loader import StockBertConfig, map_stock_config_to_params, load_stock_weights\n",
        "from bert.tokenization.bert_tokenization import FullTokenizer\n",
        "\n",
        "import seaborn as sns\n",
        "from pylab import rcParams\n",
        "import matplotlib.pyplot as plt\n",
        "from matplotlib.ticker import MaxNLocator\n",
        "from matplotlib import rc\n",
        "\n",
        "from sklearn.metrics import confusion_matrix, classification_report\n",
        "\n",
        "%matplotlib inline\n",
        "%config InlineBackend.figure_format='retina'\n",
        "\n",
        "sns.set(style='whitegrid', palette='muted', font_scale=1.2)\n",
        "\n",
        "HAPPY_COLORS_PALETTE = [\"#01BEFE\", \"#FFDD00\", \"#FF7D00\", \"#FF006D\", \"#ADFF02\", \"#8F00FF\"]\n",
        "\n",
        "sns.set_palette(sns.color_palette(HAPPY_COLORS_PALETTE))\n",
        "\n",
        "rcParams['figure.figsize'] = 12, 8\n",
        "\n",
        "RANDOM_SEED = 42\n",
        "\n",
        "np.random.seed(RANDOM_SEED)\n",
        "tf.random.set_seed(RANDOM_SEED)\n",
        "\n",
        "print(\"success!\")"
      ],
      "execution_count": 2,
      "outputs": [
        {
          "output_type": "stream",
          "text": [
            "success!\n"
          ],
          "name": "stdout"
        }
      ]
    },
    {
      "cell_type": "code",
      "metadata": {
        "id": "QJDMNrs17l2B"
      },
      "source": [
        "train = pd.read_csv(\"train.csv\")\n",
        "valid = pd.read_csv(\"valid.csv\")\n",
        "test = pd.read_csv(\"test.csv\")"
      ],
      "execution_count": 5,
      "outputs": []
    },
    {
      "cell_type": "code",
      "metadata": {
        "id": "gU8Oix0K8t41",
        "outputId": "856994e7-18f3-4530-ed15-fe88096128e4",
        "colab": {
          "base_uri": "https://localhost:8080/",
          "height": 204
        }
      },
      "source": [
        "train.shape\n",
        "valid.head()"
      ],
      "execution_count": 6,
      "outputs": [
        {
          "output_type": "execute_result",
          "data": {
            "text/html": [
              "<div>\n",
              "<style scoped>\n",
              "    .dataframe tbody tr th:only-of-type {\n",
              "        vertical-align: middle;\n",
              "    }\n",
              "\n",
              "    .dataframe tbody tr th {\n",
              "        vertical-align: top;\n",
              "    }\n",
              "\n",
              "    .dataframe thead th {\n",
              "        text-align: right;\n",
              "    }\n",
              "</style>\n",
              "<table border=\"1\" class=\"dataframe\">\n",
              "  <thead>\n",
              "    <tr style=\"text-align: right;\">\n",
              "      <th></th>\n",
              "      <th>text</th>\n",
              "      <th>intent</th>\n",
              "    </tr>\n",
              "  </thead>\n",
              "  <tbody>\n",
              "    <tr>\n",
              "      <th>0</th>\n",
              "      <td>প্রকৃতপক্ষে</td>\n",
              "      <td>affirm</td>\n",
              "    </tr>\n",
              "    <tr>\n",
              "      <th>1</th>\n",
              "      <td>সঠিক</td>\n",
              "      <td>affirm</td>\n",
              "    </tr>\n",
              "    <tr>\n",
              "      <th>2</th>\n",
              "      <td>ভাল লাগছে</td>\n",
              "      <td>affirm</td>\n",
              "    </tr>\n",
              "    <tr>\n",
              "      <th>3</th>\n",
              "      <td>হ্যাঁ plz</td>\n",
              "      <td>affirm</td>\n",
              "    </tr>\n",
              "    <tr>\n",
              "      <th>4</th>\n",
              "      <td>অবশ্যই</td>\n",
              "      <td>affirm</td>\n",
              "    </tr>\n",
              "  </tbody>\n",
              "</table>\n",
              "</div>"
            ],
            "text/plain": [
              "          text  intent\n",
              "0  প্রকৃতপক্ষে  affirm\n",
              "1         সঠিক  affirm\n",
              "2    ভাল লাগছে  affirm\n",
              "3    হ্যাঁ plz  affirm\n",
              "4       অবশ্যই  affirm"
            ]
          },
          "metadata": {
            "tags": []
          },
          "execution_count": 6
        }
      ]
    },
    {
      "cell_type": "code",
      "metadata": {
        "id": "Pr6-k9f8MqAR",
        "outputId": "b889a4ca-ea24-4023-c948-1513bd129597",
        "colab": {
          "base_uri": "https://localhost:8080/",
          "height": 642
        }
      },
      "source": [
        "chart = sns.countplot(train.intent, palette=HAPPY_COLORS_PALETTE)\n",
        "plt.title(\"Number of texts per intent\")\n",
        "chart.set_xticklabels(chart.get_xticklabels(), rotation=30, horizontalalignment='right');"
      ],
      "execution_count": 7,
      "outputs": [
        {
          "output_type": "stream",
          "text": [
            "/usr/local/lib/python3.6/dist-packages/seaborn/_decorators.py:43: FutureWarning: Pass the following variable as a keyword arg: x. From version 0.12, the only valid positional argument will be `data`, and passing other arguments without an explicit keyword will result in an error or misinterpretation.\n",
            "  FutureWarning\n"
          ],
          "name": "stderr"
        },
        {
          "output_type": "display_data",
          "data": {
            "image/png": "[encoded data removed]",
            "text/plain": [
              "<Figure size 864x576 with 1 Axes>"
            ]
          },
          "metadata": {
            "tags": [],
            "image/png": {
              "width": 728,
              "height": 571
            }
          }
        }
      ]
    },
    {
      "cell_type": "code",
      "metadata": {
        "id": "avrhcR6cM4o4",
        "outputId": "69efe607-d605-4457-8f09-054a934b50fd",
        "colab": {
          "base_uri": "https://localhost:8080/"
        }
      },
      "source": [
        "!wget https://storage.googleapis.com/bert_models/2018_11_23/multi_cased_L-12_H-768_A-12.zip"
      ],
      "execution_count": 8,
      "outputs": [
        {
          "output_type": "stream",
          "text": [
            "--2020-11-04 04:22:51--  https://storage.googleapis.com/bert_models/2018_11_23/multi_cased_L-12_H-768_A-12.zip\n",
            "Resolving storage.googleapis.com (storage.googleapis.com)... 173.194.213.128, 173.194.214.128, 173.194.215.128, ...\n",
            "Connecting to storage.googleapis.com (storage.googleapis.com)|173.194.213.128|:443... connected.\n",
            "HTTP request sent, awaiting response... 200 OK\n",
            "Length: 662903077 (632M) [application/zip]\n",
            "Saving to: ‘multi_cased_L-12_H-768_A-12.zip’\n",
            "\n",
            "multi_cased_L-12_H- 100%[===================>] 632.19M   111MB/s    in 5.7s    \n",
            "\n",
            "2020-11-04 04:22:57 (111 MB/s) - ‘multi_cased_L-12_H-768_A-12.zip’ saved [662903077/662903077]\n",
            "\n"
          ],
          "name": "stdout"
        }
      ]
    },
    {
      "cell_type": "code",
      "metadata": {
        "id": "f_ZKhNaxM-cJ",
        "outputId": "e5c9c5cf-96bc-417f-f171-0ac52610dcb6",
        "colab": {
          "base_uri": "https://localhost:8080/"
        }
      },
      "source": [
        "!unzip multi_cased_L-12_H-768_A-12.zip"
      ],
      "execution_count": 9,
      "outputs": [
        {
          "output_type": "stream",
          "text": [
            "Archive:  multi_cased_L-12_H-768_A-12.zip\n",
            "   creating: multi_cased_L-12_H-768_A-12/\n",
            "  inflating: multi_cased_L-12_H-768_A-12/bert_model.ckpt.meta  \n",
            "  inflating: multi_cased_L-12_H-768_A-12/bert_model.ckpt.data-00000-of-00001  \n",
            "  inflating: multi_cased_L-12_H-768_A-12/vocab.txt  \n",
            "  inflating: multi_cased_L-12_H-768_A-12/bert_model.ckpt.index  \n",
            "  inflating: multi_cased_L-12_H-768_A-12/bert_config.json  \n"
          ],
          "name": "stdout"
        }
      ]
    },
    {
      "cell_type": "code",
      "metadata": {
        "id": "qpBHjfvoNDwe"
      },
      "source": [
        "os.makedirs(\"model\", exist_ok=True)"
      ],
      "execution_count": 15,
      "outputs": []
    },
    {
      "cell_type": "code",
      "metadata": {
        "id": "tLoXJMwkNHra",
        "outputId": "ef764114-6920-4c31-85f1-adfde921c54e",
        "colab": {
          "base_uri": "https://localhost:8080/"
        }
      },
      "source": [
        "!mv multi_cased_L-12_H-768_A-12.zip/ model"
      ],
      "execution_count": 11,
      "outputs": [
        {
          "output_type": "stream",
          "text": [
            "mv: cannot stat 'multi_cased_L-12_H-768_A-12.zip/': Not a directory\n"
          ],
          "name": "stdout"
        }
      ]
    },
    {
      "cell_type": "code",
      "metadata": {
        "id": "l26ocVUjNMs_"
      },
      "source": [
        "bert_model_name=\"multi_cased_L-12_H-768_A-12\"\n",
        "\n",
        "bert_ckpt_dir = os.path.join(\"model/\", bert_model_name)\n",
        "bert_ckpt_file = os.path.join(bert_ckpt_dir, \"bert_model.ckpt\")\n",
        "bert_config_file = os.path.join(bert_ckpt_dir, \"bert_config.json\")"
      ],
      "execution_count": 17,
      "outputs": []
    },
    {
      "cell_type": "code",
      "metadata": {
        "id": "Yv9BfzCtNmPE"
      },
      "source": [
        "class IntentDetectionData:\n",
        "  DATA_COLUMN = \"text\"\n",
        "  LABEL_COLUMN = \"intent\"\n",
        "\n",
        "  def __init__(self, train, test, tokenizer: FullTokenizer, classes, max_seq_len=192):\n",
        "    self.tokenizer = tokenizer\n",
        "    self.max_seq_len = 0\n",
        "    self.classes = classes\n",
        "    \n",
        "    ((self.train_x, self.train_y), (self.test_x, self.test_y)) = map(self._prepare, [train, test])\n",
        "\n",
        "    print(\"max seq_len\", self.max_seq_len)\n",
        "    self.max_seq_len = min(self.max_seq_len, max_seq_len)\n",
        "    self.train_x, self.test_x = map(self._pad, [self.train_x, self.test_x])\n",
        "\n",
        "  def _prepare(self, df):\n",
        "    x, y = [], []\n",
        "    \n",
        "    for _, row in tqdm(df.iterrows()):\n",
        "      text, label = row[IntentDetectionData.DATA_COLUMN], row[IntentDetectionData.LABEL_COLUMN]\n",
        "      tokens = self.tokenizer.tokenize(text)\n",
        "      print(tokens)\n",
        "      tokens = [\"[CLS]\"] + tokens + [\"[SEP]\"]\n",
        "      print(tokens)\n",
        "      token_ids = self.tokenizer.convert_tokens_to_ids(tokens)\n",
        "      self.max_seq_len = max(self.max_seq_len, len(token_ids))\n",
        "      x.append(token_ids)\n",
        "      y.append(self.classes.index(label))\n",
        "\n",
        "    return np.array(x), np.array(y)\n",
        "\n",
        "  def _pad(self, ids):\n",
        "    x = []\n",
        "    for input_ids in ids:\n",
        "      input_ids = input_ids[:min(len(input_ids), self.max_seq_len - 2)]\n",
        "      input_ids = input_ids + [0] * (self.max_seq_len - len(input_ids))\n",
        "      x.append(np.array(input_ids))\n",
        "    return np.array(x)"
      ],
      "execution_count": 35,
      "outputs": []
    },
    {
      "cell_type": "code",
      "metadata": {
        "id": "eODIMtnVNsi_"
      },
      "source": [
        "tokenizer = FullTokenizer(vocab_file=os.path.join(bert_ckpt_dir, \"vocab.txt\"), do_lower_case=False)"
      ],
      "execution_count": 36,
      "outputs": []
    },
    {
      "cell_type": "code",
      "metadata": {
        "id": "mFbuMPqjjrYL",
        "outputId": "6fa42894-b31b-4a92-920f-7fcf24908bc6",
        "colab": {
          "base_uri": "https://localhost:8080/"
        }
      },
      "source": [
        "tokens = tokenizer.tokenize(\"গত মাসে আমি কতটা ব্যয় করেছি?\")\n",
        "print(tokens)"
      ],
      "execution_count": 48,
      "outputs": [
        {
          "output_type": "stream",
          "text": [
            "['গত', 'মাসে', 'আমি', 'কতটা', 'ব্যয়', 'করেছি', '?']\n"
          ],
          "name": "stdout"
        }
      ]
    },
    {
      "cell_type": "markdown",
      "metadata": {
        "id": "S1irAdkJuHea"
      },
      "source": [
        ""
      ]
    },
    {
      "cell_type": "code",
      "metadata": {
        "id": "ab8o0FPajdH8",
        "outputId": "7290bee6-4ca1-4fcc-bca7-ecfde3a69f6e",
        "colab": {
          "base_uri": "https://localhost:8080/"
        }
      },
      "source": [
        "tokenizer.convert_tokens_to_ids(tokens)"
      ],
      "execution_count": 37,
      "outputs": [
        {
          "output_type": "execute_result",
          "data": {
            "text/plain": [
              "[90447,\n",
              " 13542,\n",
              " 110304,\n",
              " 29993,\n",
              " 65435,\n",
              " 37376,\n",
              " 100636,\n",
              " 13542,\n",
              " 36715,\n",
              " 69952,\n",
              " 15215,\n",
              " 13228,\n",
              " 101514,\n",
              " 53574,\n",
              " 12235,\n",
              " 136]"
            ]
          },
          "metadata": {
            "tags": []
          },
          "execution_count": 37
        }
      ]
    },
    {
      "cell_type": "code",
      "metadata": {
        "id": "rJRXyFI2OjMk"
      },
      "source": [
        "def create_model(max_seq_len, bert_ckpt_file):\n",
        "\n",
        "  with tf.io.gfile.GFile(bert_config_file, \"r\") as reader:\n",
        "      bc = StockBertConfig.from_json_string(reader.read())\n",
        "      bert_params = map_stock_config_to_params(bc)\n",
        "      bert_params.adapter_size = None\n",
        "      bert = BertModelLayer.from_params(bert_params, name=\"bert\")\n",
        "        \n",
        "  input_ids = keras.layers.Input(shape=(max_seq_len, ), dtype='int32', name=\"input_ids\")\n",
        "  bert_output = bert(input_ids)\n",
        "\n",
        "  print(\"bert shape\", bert_output.shape)\n",
        "\n",
        "  cls_out = keras.layers.Lambda(lambda seq: seq[:, 0, :])(bert_output)\n",
        "  cls_out = keras.layers.Dropout(0.5)(cls_out)\n",
        "  logits = keras.layers.Dense(units=768, activation=\"tanh\")(cls_out)\n",
        "  logits = keras.layers.Dropout(0.5)(logits)\n",
        "  logits = keras.layers.Dense(units=len(classes), activation=\"softmax\")(logits)\n",
        "\n",
        "  model = keras.Model(inputs=input_ids, outputs=logits)\n",
        "  model.build(input_shape=(None, max_seq_len))\n",
        "\n",
        "  load_stock_weights(bert, bert_ckpt_file)\n",
        "        \n",
        "  return model"
      ],
      "execution_count": 38,
      "outputs": []
    },
    {
      "cell_type": "code",
      "metadata": {
        "id": "UL1PkA--Oljo",
        "outputId": "e8faef07-e4fd-4f31-bebd-306f604b3ca8",
        "colab": {
          "base_uri": "https://localhost:8080/"
        }
      },
      "source": [
        "classes = train.intent.unique().tolist()\n",
        "data = IntentDetectionData(train, test, tokenizer, classes, max_seq_len=128)"
      ],
      "execution_count": 39,
      "outputs": [
        {
          "output_type": "stream",
          "text": [
            "276it [00:00, 1871.32it/s]\n",
            "42it [00:00, 1623.05it/s]"
          ],
          "name": "stderr"
        },
        {
          "output_type": "stream",
          "text": [
            "['প্রকৃতপক্ষে']\n",
            "['[CLS]', 'প্রকৃতপক্ষে', '[SEP]']\n",
            "['সঠিক']\n",
            "['[CLS]', 'সঠিক', '[SEP]']\n",
            "['ভাল', 'লাগছে']\n",
            "['[CLS]', 'ভাল', 'লাগছে', '[SEP]']\n",
            "['হ্যাঁ']\n",
            "['[CLS]', 'হ্যাঁ', '[SEP]']\n",
            "['হ্যাঁ', 'দয়া', 'করে']\n",
            "['[CLS]', 'হ্যাঁ', 'দয়া', 'করে', '[SEP]']\n",
            "['অবশ্যই']\n",
            "['[CLS]', 'অবশ্যই', '[SEP]']\n",
            "['হা']\n",
            "['[CLS]', 'হা', '[SEP]']\n",
            "['হ্যাঁ', 'pl', '##z']\n",
            "['[CLS]', 'হ্যাঁ', 'pl', '##z', '[SEP]']\n",
            "['অবশ্যই']\n",
            "['[CLS]', 'অবশ্যই', '[SEP]']\n",
            "['ঠিক', 'আছে']\n",
            "['[CLS]', 'ঠিক', 'আছে', '[SEP]']\n",
            "['মিষ্টি']\n",
            "['[CLS]', 'মিষ্টি', '[SEP]']\n",
            "['শীতল']\n",
            "['[CLS]', 'শীতল', '[SEP]']\n",
            "['আমি', 'একাউন্ট', 'খুলতে', 'চাই']\n",
            "['[CLS]', 'আমি', 'একাউন্ট', 'খুলতে', 'চাই', '[SEP]']\n",
            "['আমি', 'একাউন্ট', 'খ', '##ুল', '##ব']\n",
            "['[CLS]', 'আমি', 'একাউন্ট', 'খ', '##ুল', '##ব', '[SEP]']\n",
            "['একাউন্ট', 'খুলতে', 'চাই']\n",
            "['[CLS]', 'একাউন্ট', 'খুলতে', 'চাই', '[SEP]']\n",
            "['আম', '##ো', 'অ্যাকাউন্ট', 'খুলুন', 'ক্রো', '##ব', '##ো']\n",
            "['[CLS]', 'আম', '##ো', 'অ্যাকাউন্ট', 'খুলুন', 'ক্রো', '##ব', '##ো', '[SEP]']\n",
            "['অ্যাকাউন্ট', 'খোলা', 'ক্রো', '##ব', '##ো']\n",
            "['[CLS]', 'অ্যাকাউন্ট', 'খোলা', 'ক্রো', '##ব', '##ো', '[SEP]']\n",
            "['অভিজাত', 'হাল', '##্ব', '##ো']\n",
            "['[CLS]', 'অভিজাত', 'হাল', '##্ব', '##ো', '[SEP]']\n",
            "['নতুন', 'একাউন্ট', 'খ', '##ুল', '##ব']\n",
            "['[CLS]', 'নতুন', 'একাউন্ট', 'খ', '##ুল', '##ব', '[SEP]']\n",
            "['নতুন', 'হিসাব', 'খুলতে', 'চাচ্ছি']\n",
            "['[CLS]', 'নতুন', 'হিসাব', 'খুলতে', 'চাচ্ছি', '[SEP]']\n",
            "['খোলা', 'হিসাব']\n",
            "['[CLS]', 'খোলা', 'হিসাব', '[SEP]']\n",
            "['অ্যাকাউন্ট', 'খোলা']\n",
            "['[CLS]', 'অ্যাকাউন্ট', 'খোলা', '[SEP]']\n",
            "['আমি', 'অ্যাকাউন্ট', 'খুলতে', 'চাই']\n",
            "['[CLS]', 'আমি', 'অ্যাকাউন্ট', 'খুলতে', 'চাই', '[SEP]']\n",
            "['আমি', 'একটি', 'অ্যাকাউন্ট', 'খুলতে', 'চাই']\n",
            "['[CLS]', 'আমি', 'একটি', 'অ্যাকাউন্ট', 'খুলতে', 'চাই', '[SEP]']\n",
            "['কীভাবে', 'অ্যাকাউন্ট', 'খুলবেন']\n",
            "['[CLS]', 'কীভাবে', 'অ্যাকাউন্ট', 'খুলবেন', '[SEP]']\n",
            "['আমি', 'কীভাবে', 'অ্যাকাউন্ট', 'খুলতে', 'পারি', '?']\n",
            "['[CLS]', 'আমি', 'কীভাবে', 'অ্যাকাউন্ট', 'খুলতে', 'পারি', '?', '[SEP]']\n",
            "['অর্থ', 'স্থানান্তর', 'করার', 'জন্য', 'কি', 'আমার', 'চার্জ', 'নেওয়া', 'হবে', '?']\n",
            "['[CLS]', 'অর্থ', 'স্থানান্তর', 'করার', 'জন্য', 'কি', 'আমার', 'চার্জ', 'নেওয়া', 'হবে', '?', '[SEP]']\n",
            "['স্থানান্তর', 'কি', 'কিছু', 'খরচ', 'করে', '?']\n",
            "['[CLS]', 'স্থানান্তর', 'কি', 'কিছু', 'খরচ', 'করে', '?', '[SEP]']\n",
            "['একটি', 'স্থানান্তর', 'চার্জ', 'আছে', '?']\n",
            "['[CLS]', 'একটি', 'স্থানান্তর', 'চার্জ', 'আছে', '?', '[SEP]']\n",
            "['কোন', 'চার্জ', 'আছে', '?']\n",
            "['[CLS]', 'কোন', 'চার্জ', 'আছে', '?', '[SEP]']\n",
            "['লেনদেনের', 'জন্য', 'কি', 'আমার', 'চার্জ', 'নেওয়া', 'হবে', '?']\n",
            "['[CLS]', 'লেনদেনের', 'জন্য', 'কি', 'আমার', 'চার্জ', 'নেওয়া', 'হবে', '?', '[SEP]']\n",
            "['ট্রান্স', '##ফা', '##র', 'জন্য', 'কিছু', 'খরচ', 'হয়', '?']\n",
            "['[CLS]', 'ট্রান্স', '##ফা', '##র', 'জন্য', 'কিছু', 'খরচ', 'হয়', '?', '[SEP]']\n",
            "['একটি', 'স্থানান্তর', 'ফি', 'আছে', '?']\n",
            "['[CLS]', 'একটি', 'স্থানান্তর', 'ফি', 'আছে', '?', '[SEP]']\n",
            "['স্থানান্তর', 'ফি', 'কত', '?']\n",
            "['[CLS]', 'স্থানান্তর', 'ফি', 'কত', '?', '[SEP]']\n",
            "['আমার', 'অ্যাকাউন্টে', 'কত', 'টাকা', '?']\n",
            "['[CLS]', 'আমার', 'অ্যাকাউন্টে', 'কত', 'টাকা', '?', '[SEP]']\n",
            "['আমার', 'ব্যালেন্স', 'কি', '?']\n",
            "['[CLS]', 'আমার', 'ব্যালেন্স', 'কি', '?', '[SEP]']\n",
            "['আমার', 'বর্তমান', 'ব্যালেন্স', 'কি', '?']\n",
            "['[CLS]', 'আমার', 'বর্তমান', 'ব্যালেন্স', 'কি', '?', '[SEP]']\n",
            "['এই', 'অ্যাকাউন্টে', 'কি', 'বাকি', 'আছে', '?']\n",
            "['[CLS]', 'এই', 'অ্যাকাউন্টে', 'কি', 'বাকি', 'আছে', '?', '[SEP]']\n",
            "['আমার', 'এই', 'অ্যাকাউন্টে', 'কত', 'আছে', '?']\n",
            "['[CLS]', 'আমার', 'এই', 'অ্যাকাউন্টে', 'কত', 'আছে', '?', '[SEP]']\n",
            "['এই', 'অ্যাকাউন্টে', 'ব্যালেন্স', 'কী', '?']\n",
            "['[CLS]', 'এই', 'অ্যাকাউন্টে', 'ব্যালেন্স', 'কী', '?', '[SEP]']\n",
            "['সেই', 'অ্যাকাউন্টে', 'কত', 'টাকা', 'বাকি', '?']\n",
            "['[CLS]', 'সেই', 'অ্যাকাউন্টে', 'কত', 'টাকা', 'বাকি', '?', '[SEP]']\n",
            "['আমার', 'অ্যাকাউন্টের', 'ব্যালেন্স', 'কি', '?']\n",
            "['[CLS]', 'আমার', 'অ্যাকাউন্টের', 'ব্যালেন্স', 'কি', '?', '[SEP]']\n",
            "['আমার', 'অ্যাকাউন্টের', 'ব্যালেন্স', 'কি', '?']\n",
            "['[CLS]', 'আমার', 'অ্যাকাউন্টের', 'ব্যালেন্স', 'কি', '?', '[SEP]']\n",
            "['আমার', 'অ্যাকাউন্টের', 'ব্যালেন্স', 'কি', '?']\n",
            "['[CLS]', 'আমার', 'অ্যাকাউন্টের', 'ব্যালেন্স', 'কি', '?', '[SEP]']\n",
            "['আমার', 'অ্যাকাউন্টের', 'ব্যালেন্স', 'কি', '?']\n",
            "['[CLS]', 'আমার', 'অ্যাকাউন্টের', 'ব্যালেন্স', 'কি', '?', '[SEP]']\n",
            "['আমার', 'ক্রেডিট', 'কার্ডের', 'ব্যালেন্স', 'কি', '?']\n",
            "['[CLS]', 'আমার', 'ক্রেডিট', 'কার্ডের', 'ব্যালেন্স', 'কি', '?', '[SEP]']\n",
            "['আমার', 'ক্রেডিট', 'ব্যালেন্স', 'কি']\n",
            "['[CLS]', 'আমার', 'ক্রেডিট', 'ব্যালেন্স', 'কি', '[SEP]']\n",
            "['আমার', 'ক্রেডিট', 'কার্ড', '##গুলি', '##তে', 'আমি', 'কত', 'টাকা', 'o', '##w', '##ণী', '?']\n",
            "['[CLS]', 'আমার', 'ক্রেডিট', 'কার্ড', '##গুলি', '##তে', 'আমি', 'কত', 'টাকা', 'o', '##w', '##ণী', '?', '[SEP]']\n",
            "['আমাকে', 'আমার', 'ক্রেডিট', 'কার্ডের', 'ব্যালেন্স', 'দেখান']\n",
            "['[CLS]', 'আমাকে', 'আমার', 'ক্রেডিট', 'কার্ডের', 'ব্যালেন্স', 'দেখান', '[SEP]']\n",
            "['আমার', 'কী', 'ক্রেডিট', 'অ্যাকাউন্ট', 'আছে']\n",
            "['[CLS]', 'আমার', 'কী', 'ক্রেডিট', 'অ্যাকাউন্ট', 'আছে', '[SEP]']\n",
            "['আমাকে', 'আমার', 'ক্রেডিট', 'অ্যাকাউন্ট', '##গুলি', 'দেখান']\n",
            "['[CLS]', 'আমাকে', 'আমার', 'ক্রেডিট', 'অ্যাকাউন্ট', '##গুলি', 'দেখান', '[SEP]']\n",
            "['আমার', 'ক্রেডিট', 'অ্যাকাউন্টে', 'কি', 'পরিমাণ', 'ব্যালেন্স', 'রয়েছে']\n",
            "['[CLS]', 'আমার', 'ক্রেডিট', 'অ্যাকাউন্টে', 'কি', 'পরিমাণ', 'ব্যালেন্স', 'রয়েছে', '[SEP]']\n",
            "['আমার', 'ক্রেডিট', 'অ্যাকাউন্ট', 'কি']\n",
            "['[CLS]', 'আমার', 'ক্রেডিট', 'অ্যাকাউন্ট', 'কি', '[SEP]']\n",
            "['আমার', 'ক্রেডিট', 'সব', 'ব্যালেন্স', 'কি']\n",
            "['[CLS]', 'আমার', 'ক্রেডিট', 'সব', 'ব্যালেন্স', 'কি', '[SEP]']\n",
            "['আমার', 'প্রতীক', 'কার্ডের', 'ব্যালেন্স', 'কী']\n",
            "['[CLS]', 'আমার', 'প্রতীক', 'কার্ডের', 'ব্যালেন্স', 'কী', '[SEP]']\n",
            "['ক্রেডিট', 'সমস্ত', 'অ্যাকাউন্টে', 'ব্যালেন্স', 'কি']\n",
            "['[CLS]', 'ক্রেডিট', 'সমস্ত', 'অ্যাকাউন্টে', 'ব্যালেন্স', 'কি', '[SEP]']\n",
            "['আমাকে', 'আমার', 'আয়রন', 'ব্যাঙ্কের', 'ব্যালেন্স', 'দেখান']\n",
            "['[CLS]', 'আমাকে', 'আমার', 'আয়রন', 'ব্যাঙ্কের', 'ব্যালেন্স', 'দেখান', '[SEP]']\n",
            "['আমার', 'ন্যায়বিচার', 'ব্যাংক', 'ব্যালেন্স', 'কি']\n",
            "['[CLS]', 'আমার', 'ন্যায়বিচার', 'ব্যাংক', 'ব্যালেন্স', 'কি', '[SEP]']\n",
            "['বিচার', 'ব্যাংক', 'অ্যাকাউন্টে', 'কী', 'পরিমাণ', 'ব্যালেন্স', 'রয়েছে']\n",
            "['[CLS]', 'বিচার', 'ব্যাংক', 'অ্যাকাউন্টে', 'কী', 'পরিমাণ', 'ব্যালেন্স', 'রয়েছে', '[SEP]']\n",
            "['আমার', 'প্রতীক', 'ক্রেডিট', 'কার্ডের', 'ব্যালেন্স', 'কি', '?']\n",
            "['[CLS]', 'আমার', 'প্রতীক', 'ক্রেডিট', 'কার্ডের', 'ব্যালেন্স', 'কি', '?', '[SEP]']\n",
            "['আমার', 'ক্রেডিট', 'কার্ডের', 'ব্যালেন্স', 'কি', '?']\n",
            "['[CLS]', 'আমার', 'ক্রেডিট', 'কার্ডের', 'ব্যালেন্স', 'কি', '?', '[SEP]']\n",
            "['আমার', 'ক্রেডিট', 'কার্ড', 'অ্যাকাউন্টের', 'ব্যালেন্স', 'কি', '?']\n",
            "['[CLS]', 'আমার', 'ক্রেডিট', 'কার্ড', 'অ্যাকাউন্টের', 'ব্যালেন্স', 'কি', '?', '[SEP]']\n",
            "['আমার', 'প্রতীক', 'কার্ডের', 'ব্যালেন্স', 'কী', '?']\n",
            "['[CLS]', 'আমার', 'প্রতীক', 'কার্ডের', 'ব্যালেন্স', 'কী', '?', '[SEP]']\n",
            "['আমার', 'ক্রেডিট', 'কার্ডের', 'ব্যালেন্স', 'কি', '?']\n",
            "['[CLS]', 'আমার', 'ক্রেডিট', 'কার্ডের', 'ব্যালেন্স', 'কি', '?', '[SEP]']\n",
            "['আমার', 'প্রতীক', 'ব্যালেন্স', 'কি', '?']\n",
            "['[CLS]', 'আমার', 'প্রতীক', 'ব্যালেন্স', 'কি', '?', '[SEP]']\n",
            "['আমার', 'প্রতীক', 'কার্ডের', 'ব্যালেন্স', 'কি', '?']\n",
            "['[CLS]', 'আমার', 'প্রতীক', 'কার্ডের', 'ব্যালেন্স', 'কি', '?', '[SEP]']\n",
            "['আমার', 'আত্মার', 'কার্ডের', 'ব্যালেন্স', 'কত', '?']\n",
            "['[CLS]', 'আমার', 'আত্মার', 'কার্ডের', 'ব্যালেন্স', 'কত', '?', '[SEP]']\n",
            "['আমার', 'এম', '##্বে', '##ল', 'অ্যাকাউন্টের', 'ব্যালেন্স', 'কি', '?']\n",
            "['[CLS]', 'আমার', 'এম', '##্বে', '##ল', 'অ্যাকাউন্টের', 'ব্যালেন্স', 'কি', '?', '[SEP]']\n",
            "['ইদানীং', 'কত', 'টাকা', 'খরচ', 'করেছি']\n",
            "['[CLS]', 'ইদানীং', 'কত', 'টাকা', 'খরচ', 'করেছি', '[SEP]']\n",
            "['আমার', 'ক্রেডিট', 'কার্ডের', 'ভারসাম্য', '##টি', 'আগে', 'পরীক্ষা', 'করা', 'উচিত']\n",
            "['[CLS]', 'আমার', 'ক্রেডিট', 'কার্ডের', 'ভারসাম্য', '##টি', 'আগে', 'পরীক্ষা', 'করা', 'উচিত', '[SEP]']\n",
            "['আমার', 'ক্রেডিট', 'কার্ডের', 'ব্যালেন্স', 'পরীক্ষা', 'করে', 'দেখুন']\n",
            "['[CLS]', 'আমার', 'ক্রেডিট', 'কার্ডের', 'ব্যালেন্স', 'পরীক্ষা', 'করে', 'দেখুন', '[SEP]']\n",
            "['প্রথমে', 'আমার', 'ক্রেডিট', 'কার্ডের', 'ব্যালেন্স', 'পরীক্ষা', 'করে', 'দেখুন']\n",
            "['[CLS]', 'প্রথমে', 'আমার', 'ক্রেডিট', 'কার্ডের', 'ব্যালেন্স', 'পরীক্ষা', 'করে', 'দেখুন', '[SEP]']\n",
            "['আপনি', 'আমার', 'অ্যাকাউন্টের', 'ব্যালেন্স', 'বলতে', 'পারেন', '?']\n",
            "['[CLS]', 'আপনি', 'আমার', 'অ্যাকাউন্টের', 'ব্যালেন্স', 'বলতে', 'পারেন', '?', '[SEP]']\n",
            "['হ্যালো', 'আমি', 'জানতে', 'চাই', 'যে', 'আমার', 'অ্যাকাউন্টে', 'কত', 'টাকার', 'পরিমাণ', 'রয়েছে']\n",
            "['[CLS]', 'হ্যালো', 'আমি', 'জানতে', 'চাই', 'যে', 'আমার', 'অ্যাকাউন্টে', 'কত', 'টাকার', 'পরিমাণ', 'রয়েছে', '[SEP]']\n",
            "['হাই', 'আমার', 'অ্যাকাউন্ট', 'বাল', 'কি', 'দয়া', 'করে']\n",
            "['[CLS]', 'হাই', 'আমার', 'অ্যাকাউন্ট', 'বাল', 'কি', 'দয়া', 'করে', '[SEP]']\n",
            "['তো', 'আমার', 'ব্যালেন্স', 'কি', '?']\n",
            "['[CLS]', 'তো', 'আমার', 'ব্যালেন্স', 'কি', '?', '[SEP]']\n",
            "['আমার', 'বর্তমান', 'ব্যালেন্স', 'কি', '?']\n",
            "['[CLS]', 'আমার', 'বর্তমান', 'ব্যালেন্স', 'কি', '?', '[SEP]']\n",
            "['আমার', 'ব্যালেন্স', 'কি', '?']\n",
            "['[CLS]', 'আমার', 'ব্যালেন্স', 'কি', '?', '[SEP]']\n",
            "['আমার', 'কত', 'টাকা', 'আছে', '?']\n",
            "['[CLS]', 'আমার', 'কত', 'টাকা', 'আছে', '?', '[SEP]']\n",
            "['হ্যাঁ', 'আমি', 'কফি', 'পছন্দ', 'করি', 'তবে', 'আমার', 'কাছে', 'কত', 'টাকা', 'আছে', '?']\n",
            "['[CLS]', 'হ্যাঁ', 'আমি', 'কফি', 'পছন্দ', 'করি', 'তবে', 'আমার', 'কাছে', 'কত', 'টাকা', 'আছে', '?', '[SEP]']\n",
            "['হ্যাঁ', 'আমি', 'জানি', 'যেহেতু', 'এটি', 'খুব', 'সুন্দর', ':', 'আমার', 'কাছে', 'কত', 'টাকা', 'আছে', '?']\n",
            "['[CLS]', 'হ্যাঁ', 'আমি', 'জানি', 'যেহেতু', 'এটি', 'খুব', 'সুন্দর', ':', 'আমার', 'কাছে', 'কত', 'টাকা', 'আছে', '?', '[SEP]']\n",
            "['গত', 'মাসে', 'আমার', 'অ্যাকাউন্টে', 'কত', 'টাকা', 'গেল', '?']\n",
            "['[CLS]', 'গত', 'মাসে', 'আমার', 'অ্যাকাউন্টে', 'কত', 'টাকা', 'গেল', '?', '[SEP]']\n",
            "['গত', 'বছর', 'আমি', 'কত', 'টাকা', 'উপার্জন', 'করেছি', '?']\n",
            "['[CLS]', 'গত', 'বছর', 'আমি', 'কত', 'টাকা', 'উপার্জন', 'করেছি', '?', '[SEP]']\n",
            "['গত', 'মাসে', 'আমি', 'কী', 'উপার্জন', 'করেছি', '?']\n",
            "['[CLS]', 'গত', 'মাসে', 'আমি', 'কী', 'উপার্জন', 'করেছি', '?', '[SEP]']\n",
            "['গত', 'মাসে', 'আমি', 'কতটা', 'করেছি', '?']\n",
            "['[CLS]', 'গত', 'মাসে', 'আমি', 'কতটা', 'করেছি', '?', '[SEP]']\n",
            "['গত', 'সপ্তাহে', 'আমি', 'কত', 'টাকা', 'উপার্জন', 'করেছি', '?']\n",
            "['[CLS]', 'গত', 'সপ্তাহে', 'আমি', 'কত', 'টাকা', 'উপার্জন', 'করেছি', '?', '[SEP]']\n",
            "['গত', 'মাসে', 'আমার', 'অ্যাকাউন্টে', 'কত', 'জমা', 'ছিল', '?']\n",
            "['[CLS]', 'গত', 'মাসে', 'আমার', 'অ্যাকাউন্টে', 'কত', 'জমা', 'ছিল', '?', '[SEP]']\n",
            "['গত', 'দুই', 'সপ্তাহে', 'আমার', 'অ্যাকাউন্টে', 'কত', 'জমা', 'ছিল', '?']\n",
            "['[CLS]', 'গত', 'দুই', 'সপ্তাহে', 'আমার', 'অ্যাকাউন্টে', 'কত', 'জমা', 'ছিল', '?', '[SEP]']\n",
            "['গত', 'সপ্তাহের', 'জন্য', 'আমানত', 'চেক', 'করুন']\n",
            "['[CLS]', 'গত', 'সপ্তাহের', 'জন্য', 'আমানত', 'চেক', 'করুন', '[SEP]']\n",
            "['গত', 'বছরের', 'তুলনায়', 'মোট', 'আমানত']\n",
            "['[CLS]', 'গত', 'বছরের', 'তুলনায়', 'মোট', 'আমানত', '[SEP]']\n",
            "['জানুয়ারী', '##তে', 'কত', 'জমা', 'ছিল']\n",
            "['[CLS]', 'জানুয়ারী', '##তে', 'কত', 'জমা', 'ছিল', '[SEP]']\n",
            "['আমি', 'কত', 'টাকা', 'উপার্জন', 'করেছি', '?']\n",
            "['[CLS]', 'আমি', 'কত', 'টাকা', 'উপার্জন', 'করেছি', '?', '[SEP]']\n",
            "['আমি', 'কি', 'উপার্জন', 'করেছি', '?']\n",
            "['[CLS]', 'আমি', 'কি', 'উপার্জন', 'করেছি', '?', '[SEP]']\n",
            "['আমি', 'কত', 'উপার্জন', 'করেছি', '?']\n",
            "['[CLS]', 'আমি', 'কত', 'উপার্জন', 'করেছি', '?', '[SEP]']\n",
            "['আসলে', 'তা', 'না']\n",
            "['[CLS]', 'আসলে', 'তা', 'না', '[SEP]']\n",
            "['না']\n",
            "['[CLS]', 'না', '[SEP]']\n",
            "['আমি', 'তাই', 'মনে', 'করি', 'না']\n",
            "['[CLS]', 'আমি', 'তাই', 'মনে', 'করি', 'না', '[SEP]']\n",
            "['কখনই', 'না']\n",
            "['[CLS]', 'কখনই', 'না', '[SEP]']\n",
            "['কোনভাবেই', 'না']\n",
            "['[CLS]', 'কোনভাবেই', 'না', '[SEP]']\n",
            "['না']\n",
            "['[CLS]', 'না', '[SEP]']\n",
            "['না', 'ধন্যবাদ']\n",
            "['[CLS]', 'না', 'ধন্যবাদ', '[SEP]']\n",
            "['এবং', 'নীচে']\n",
            "['[CLS]', 'এবং', 'নীচে', '[SEP]']\n",
            "['কিছুই', 'না', '!']\n",
            "['[CLS]', 'কিছুই', 'না', '!', '[SEP]']\n",
            "['কিছু', 'মনে', 'করো', 'না']\n",
            "['[CLS]', 'কিছু', 'মনে', 'করো', 'না', '[SEP]']\n",
            "['পরে', 'দেখা', 'হবে']\n",
            "['[CLS]', 'পরে', 'দেখা', 'হবে', '[SEP]']\n",
            "['বিদায়']\n",
            "['[CLS]', 'বিদায়', '[SEP]']\n",
            "['আমি', 'শেষ']\n",
            "['[CLS]', 'আমি', 'শেষ', '[SEP]']\n",
            "['ছেড়ে', 'দিন']\n",
            "['[CLS]', 'ছেড়ে', 'দিন', '[SEP]']\n",
            "['থামো']\n",
            "['[CLS]', 'থামো', '[SEP]']\n",
            "['বিদায়']\n",
            "['[CLS]', 'বিদায়', '[SEP]']\n",
            "['বিদায়']\n",
            "['[CLS]', 'বিদায়', '[SEP]']\n",
            "['বাই']\n",
            "['[CLS]', 'বাই', '[SEP]']\n",
            "['গুডবাই']\n",
            "['[CLS]', 'গুডবাই', '[SEP]']\n",
            "['অনেক', 'ধন্যবাদ', '.', 'পরে', 'দেখা', 'হবে']\n",
            "['[CLS]', 'অনেক', 'ধন্যবাদ', '.', 'পরে', 'দেখা', 'হবে', '[SEP]']\n",
            "['সুপ্রভাত']\n",
            "['[CLS]', 'সুপ্রভাত', '[SEP]']\n",
            "['ওহে']\n",
            "['[CLS]', 'ওহে', '[SEP]']\n",
            "['এই', 'যে']\n",
            "['[CLS]', 'এই', 'যে', '[SEP]']\n",
            "['হেই']\n",
            "['[CLS]', 'হেই', '[SEP]']\n",
            "['শুভ', 'সন্ধ্যা']\n",
            "['[CLS]', 'শুভ', 'সন্ধ্যা', '[SEP]']\n",
            "['হ্যালো']\n",
            "['[CLS]', 'হ্যালো', '[SEP]']\n",
            "['হ্যালো', '?']\n",
            "['[CLS]', 'হ্যালো', '?', '[SEP]']\n",
            "['হেই']\n",
            "['[CLS]', 'হেই', '[SEP]']\n",
            "['হ্যালো', 'আপনি', 'এখনও', 'সেখানে', 'আছেন']\n",
            "['[CLS]', 'হ্যালো', 'আপনি', 'এখনও', 'সেখানে', 'আছেন', '[SEP]']\n",
            "['হ্যালো']\n",
            "['[CLS]', 'হ্যালো', '[SEP]']\n",
            "['ওহে']\n",
            "['[CLS]', 'ওহে', '[SEP]']\n",
            "['হেই']\n",
            "['[CLS]', 'হেই', '[SEP]']\n",
            "['ওহে']\n",
            "['[CLS]', 'ওহে', '[SEP]']\n",
            "['ওহে', '!']\n",
            "['[CLS]', 'ওহে', '!', '[SEP]']\n",
            "['হ্যালো']\n",
            "['[CLS]', 'হ্যালো', '[SEP]']\n",
            "['হাই', 'সেখানে']\n",
            "['[CLS]', 'হাই', 'সেখানে', '[SEP]']\n",
            "['হ্যালো']\n",
            "['[CLS]', 'হ্যালো', '[SEP]']\n",
            "['হ্যালো', 'তার', 'এলা']\n",
            "['[CLS]', 'হ্যালো', 'তার', 'এলা', '[SEP]']\n",
            "['১০']\n",
            "['[CLS]', '১০', '[SEP]']\n",
            "['১০', 'টাকা']\n",
            "['[CLS]', '১০', 'টাকা', '[SEP]']\n",
            "['১০', '##০']\n",
            "['[CLS]', '১০', '##০', '[SEP]']\n",
            "['১০', '##০', 'টাকা']\n",
            "['[CLS]', '১০', '##০', 'টাকা', '[SEP]']\n",
            "['১০', '##০০']\n",
            "['[CLS]', '১০', '##০০', '[SEP]']\n",
            "['১০', '##০০', 'টাকা']\n",
            "['[CLS]', '১০', '##০০', 'টাকা', '[SEP]']\n",
            "['৫০', '##০']\n",
            "['[CLS]', '৫০', '##০', '[SEP]']\n",
            "['৫০', '##০', 'টাকা']\n",
            "['[CLS]', '৫০', '##০', 'টাকা', '[SEP]']\n",
            "['আগামীকাল']\n",
            "['[CLS]', 'আগামীকাল', '[SEP]']\n",
            "['পরের', 'সপ্তাহে']\n",
            "['[CLS]', 'পরের', 'সপ্তাহে', '[SEP]']\n",
            "['গতকাল']\n",
            "['[CLS]', 'গতকাল', '[SEP]']\n",
            "['আজকের', 'জন্য']\n",
            "['[CLS]', 'আজকের', 'জন্য', '[SEP]']\n",
            "['গত', 'সপ্তাহে']\n",
            "['[CLS]', 'গত', 'সপ্তাহে', '[SEP]']\n",
            "['গত', 'মাসে']\n",
            "['[CLS]', 'গত', 'মাসে', '[SEP]']\n",
            "['গত', 'দু', \"'\", 'দিন']\n",
            "['[CLS]', 'গত', 'দু', \"'\", 'দিন', '[SEP]']\n",
            "['গত', 'দুই', 'সপ্তাহ']\n",
            "['[CLS]', 'গত', 'দুই', 'সপ্তাহ', '[SEP]']\n",
            "['আমি', 'বর্তমান', 'ব্যালেন্স', 'দিতে', 'চাই']\n",
            "['[CLS]', 'আমি', 'বর্তমান', 'ব্যালেন্স', 'দিতে', 'চাই', '[SEP]']\n",
            "['বর্তমান', 'হিসাব']\n",
            "['[CLS]', 'বর্তমান', 'হিসাব', '[SEP]']\n",
            "['সর্বনিম্ন', 'ব্যালেন্স']\n",
            "['[CLS]', 'সর্বনিম্ন', 'ব্যালেন্স', '[SEP]']\n",
            "['আমি', 'সর্বনিম্ন', 'ব্যালেন্স', 'দিতে', 'চাই']\n",
            "['[CLS]', 'আমি', 'সর্বনিম্ন', 'ব্যালেন্স', 'দিতে', 'চাই', '[SEP]']\n",
            "['বর্তমান', 'ব্যালেন্স']\n",
            "['[CLS]', 'বর্তমান', 'ব্যালেন্স', '[SEP]']\n",
            "['সর্বনিম্ন', 'ব্যালেন্স']\n",
            "['[CLS]', 'সর্বনিম্ন', 'ব্যালেন্স', '[SEP]']\n",
            "['আমার', 'ন্যূনতম', 'ব্যালেন্স']\n",
            "['[CLS]', 'আমার', 'ন্যূনতম', 'ব্যালেন্স', '[SEP]']\n",
            "['আমার', 'বর্তমান', 'ব্যালেন্স']\n",
            "['[CLS]', 'আমার', 'বর্তমান', 'ব্যালেন্স', '[SEP]']\n",
            "['সমস্ত', 'কার্ড', 'জমা', 'দিন']\n",
            "['[CLS]', 'সমস্ত', 'কার্ড', 'জমা', 'দিন', '[SEP]']\n",
            "['সমস্ত', 'জমা']\n",
            "['[CLS]', 'সমস্ত', 'জমা', '[SEP]']\n",
            "['আমি', 'আজ', 'আমার', 'প্রতীক', 'ক্রেডিট', 'কার্ডের', 'সর্বনিম্ন', 'ব্যালেন্স', 'দিতে', 'চাই']\n",
            "['[CLS]', 'আমি', 'আজ', 'আমার', 'প্রতীক', 'ক্রেডিট', 'কার্ডের', 'সর্বনিম্ন', 'ব্যালেন্স', 'দিতে', 'চাই', '[SEP]']\n",
            "['দয়া', 'করে', 'এটি', 'পরবর্তী', 'মাসের', 'প্রথমটির', 'জন্য', 'নির্ধারণ', 'করুন']\n",
            "['[CLS]', 'দয়া', 'করে', 'এটি', 'পরবর্তী', 'মাসের', 'প্রথমটির', 'জন্য', 'নির্ধারণ', 'করুন', '[SEP]']\n",
            "['আমার', 'ভিসা', 'অ্যাকাউন্ট']\n",
            "['[CLS]', 'আমার', 'ভিসা', 'অ্যাকাউন্ট', '[SEP]']\n",
            "['সর্বনিম্ন', 'ব্যালেন্স']\n",
            "['[CLS]', 'সর্বনিম্ন', 'ব্যালেন্স', '[SEP]']\n",
            "['আমার', 'ন্যূনতম', 'ব্যালেন্স']\n",
            "['[CLS]', 'আমার', 'ন্যূনতম', 'ব্যালেন্স', '[SEP]']\n",
            "['আমার', 'বর্তমান', 'ব্যালেন্স']\n",
            "['[CLS]', 'আমার', 'বর্তমান', 'ব্যালেন্স', '[SEP]']\n",
            "['আমি', 'আমার', 'ক্রেডিট', 'কার্ডে', 'সর্বনিম্ন', 'ব্যালেন্স', 'দিতে', 'চাই']\n",
            "['[CLS]', 'আমি', 'আমার', 'ক্রেডিট', 'কার্ডে', 'সর্বনিম্ন', 'ব্যালেন্স', 'দিতে', 'চাই', '[SEP]']\n",
            "['আমি', 'আমার', 'ক্রেডিট', 'কার্ড', 'প্রদান', 'করতে', 'চাই']\n",
            "['[CLS]', 'আমি', 'আমার', 'ক্রেডিট', 'কার্ড', 'প্রদান', 'করতে', 'চাই', '[SEP]']\n",
            "['আমি', 'আমার', 'কার্ড', 'দিতে', 'চাই']\n",
            "['[CLS]', 'আমি', 'আমার', 'কার্ড', 'দিতে', 'চাই', '[SEP]']\n",
            "['আমার', 'কার্ড', 'প্রদান']\n",
            "['[CLS]', 'আমার', 'কার্ড', 'প্রদান', '[SEP]']\n",
            "['আমার', 'ক্রেডিট', 'সমস্ত', 'কার্ড', 'প্রদান']\n",
            "['[CLS]', 'আমার', 'ক্রেডিট', 'সমস্ত', 'কার্ড', 'প্রদান', '[SEP]']\n",
            "['আমার', 'আবিষ্কার', 'প্রদান', 'করুন']\n",
            "['[CLS]', 'আমার', 'আবিষ্কার', 'প্রদান', 'করুন', '[SEP]']\n",
            "['আমার', 'ভিসা', 'পরিশোধ', 'করুন']\n",
            "['[CLS]', 'আমার', 'ভিসা', 'পরিশোধ', 'করুন', '[SEP]']\n",
            "['আমি', 'আমার', 'ভিসার', 'বিল', 'দিতে', 'চাই']\n",
            "['[CLS]', 'আমি', 'আমার', 'ভিসার', 'বিল', 'দিতে', 'চাই', '[SEP]']\n",
            "['আমার', 'মাস্টারকার্ড', '##টি', 'পরিশোধ', 'করুন']\n",
            "['[CLS]', 'আমার', 'মাস্টারকার্ড', '##টি', 'পরিশোধ', 'করুন', '[SEP]']\n",
            "['আমি', 'আমার', 'মাস্টারকার্ড', 'বিলটি', 'দিতে', 'চাই']\n",
            "['[CLS]', 'আমি', 'আমার', 'মাস্টারকার্ড', 'বিলটি', 'দিতে', 'চাই', '[SEP]']\n",
            "['আমি', 'আমার', 'ক্রেডিট', 'কার্ডের', 'বিলটি', 'দিতে', 'চাই']\n",
            "['[CLS]', 'আমি', 'আমার', 'ক্রেডিট', 'কার্ডের', 'বিলটি', 'দিতে', 'চাই', '[SEP]']\n",
            "['আমি', 'আমার', 'ক্রেডিট', 'কার্ডে', 'বর্তমান', 'ব্যালেন্স', 'দিতে', 'চাই']\n",
            "['[CLS]', 'আমি', 'আমার', 'ক্রেডিট', 'কার্ডে', 'বর্তমান', 'ব্যালেন্স', 'দিতে', 'চাই', '[SEP]']\n",
            "['আপনি', 'কি', 'আমার', 'ক্রেডিট', 'কার্ডে', 'বর্তমান', 'ব্যালেন্স', 'দিতে', 'আমাকে', 'সহায়তা', 'করতে', 'পারেন', '?']\n",
            "['[CLS]', 'আপনি', 'কি', 'আমার', 'ক্রেডিট', 'কার্ডে', 'বর্তমান', 'ব্যালেন্স', 'দিতে', 'আমাকে', 'সহায়তা', 'করতে', 'পারেন', '?', '[SEP]']\n",
            "['আমি', 'আমার', 'ক্রেডিট', 'সমস্ত', 'ক্রেডিট', 'কার্ড', 'পরিশোধ', 'করতে', 'চাই']\n",
            "['[CLS]', 'আমি', 'আমার', 'ক্রেডিট', 'সমস্ত', 'ক্রেডিট', 'কার্ড', 'পরিশোধ', 'করতে', 'চাই', '[SEP]']\n",
            "['আমি', 'আমার', 'ক্রেডিট', 'কার্ডটি', 'পরিশোধ', 'করতে', 'চাই']\n",
            "['[CLS]', 'আমি', 'আমার', 'ক্রেডিট', 'কার্ডটি', 'পরিশোধ', 'করতে', 'চাই', '[SEP]']\n",
            "['আমি', 'আমার', 'ক্রেডিট', 'কার্ডটি', 'পরিশোধ', 'করতে', 'চাই']\n",
            "['[CLS]', 'আমি', 'আমার', 'ক্রেডিট', 'কার্ডটি', 'পরিশোধ', 'করতে', 'চাই', '[SEP]']\n",
            "['আমি', 'আমার', 'ক্রেডিট', 'কার্ড', 'প্রদান', 'করতে', 'চাই']\n",
            "['[CLS]', 'আমি', 'আমার', 'ক্রেডিট', 'কার্ড', 'প্রদান', 'করতে', 'চাই', '[SEP]']\n",
            "['আমি', 'আমার', 'প্রতীক', 'ক্রেডিট', 'কার্ড', 'প্রদান', 'করতে', 'চাই']\n",
            "['[CLS]', 'আমি', 'আমার', 'প্রতীক', 'ক্রেডিট', 'কার্ড', 'প্রদান', 'করতে', 'চাই', '[SEP]']\n",
            "['আমি', 'আমার', 'ক্রেডিট', 'কার্ডে', 'আমার', 'বর্তমান', 'ব্যালেন্স', 'দিতে', 'চাই']\n",
            "['[CLS]', 'আমি', 'আমার', 'ক্রেডিট', 'কার্ডে', 'আমার', 'বর্তমান', 'ব্যালেন্স', 'দিতে', 'চাই', '[SEP]']\n",
            "['আমি', 'আমার', 'ক্রেডিট', 'কার্ডে', 'আমার', 'বর্তমান', 'ব্যালেন্স', 'দিতে', 'চাই']\n",
            "['[CLS]', 'আমি', 'আমার', 'ক্রেডিট', 'কার্ডে', 'আমার', 'বর্তমান', 'ব্যালেন্স', 'দিতে', 'চাই', '[SEP]']\n",
            "['আমি', 'আজ', 'আমার', 'ক্রেডিট', 'কার্ডে', 'আমার', 'বর্তমান', 'ব্যালেন্স', 'দিতে', 'চাই']\n",
            "['[CLS]', 'আমি', 'আজ', 'আমার', 'ক্রেডিট', 'কার্ডে', 'আমার', 'বর্তমান', 'ব্যালেন্স', 'দিতে', 'চাই', '[SEP]']\n",
            "['12', 'ই', 'এপ্রিল', 'দয়া', 'করে', 'আমার', 'ক্রেডিট', 'কার্ডের', 'জন্য', 'অর্থ', 'প্রদানের', 'সময়', 'নির্ধারণ', 'করুন']\n",
            "['[CLS]', '12', 'ই', 'এপ্রিল', 'দয়া', 'করে', 'আমার', 'ক্রেডিট', 'কার্ডের', 'জন্য', 'অর্থ', 'প্রদানের', 'সময়', 'নির্ধারণ', 'করুন', '[SEP]']\n",
            "['আমি', 'কি', 'আগামীকাল', 'জন্য', 'আমার', 'ক্রেডিট', 'কার্ডের', 'জন্য', 'অর্থ', 'প্রদানের', 'সময়সূচী', 'করতে', 'পারি', '?']\n",
            "['[CLS]', 'আমি', 'কি', 'আগামীকাল', 'জন্য', 'আমার', 'ক্রেডিট', 'কার্ডের', 'জন্য', 'অর্থ', 'প্রদানের', 'সময়সূচী', 'করতে', 'পারি', '?', '[SEP]']\n",
            "['আমার', 'ন্যূনতম', 'ব্যালেন্স', 'পরিশোধ', 'করুন']\n",
            "['[CLS]', 'আমার', 'ন্যূনতম', 'ব্যালেন্স', 'পরিশোধ', 'করুন', '[SEP]']\n",
            "['আমি', 'আমার', 'ভিসার', 'বিলও', 'দিতে', 'চাই']\n",
            "['[CLS]', 'আমি', 'আমার', 'ভিসার', 'বিলও', 'দিতে', 'চাই', '[SEP]']\n",
            "['আমি', 'অনুমান', 'করি', 'এটা', '।', 'যেহেতু', 'এটি', 'অনেক', 'বেশি', 'যাক', 'আমার', 'credit', '##ণ', 'পরিশোধ', 'করা', 'যাক']\n",
            "['[CLS]', 'আমি', 'অনুমান', 'করি', 'এটা', '।', 'যেহেতু', 'এটি', 'অনেক', 'বেশি', 'যাক', 'আমার', 'credit', '##ণ', 'পরিশোধ', 'করা', 'যাক', '[SEP]']\n",
            "['এই', 'সপ্তাহে', 'আমি', 'কতটা', 'ব্যয়', 'করেছি', '?']\n",
            "['[CLS]', 'এই', 'সপ্তাহে', 'আমি', 'কতটা', 'ব্যয়', 'করেছি', '?', '[SEP]']\n",
            "['আমি', 'আমার', 'ব্যয়ের', 'ইতিহাস', 'যাচাই', 'করতে', 'চাই']\n",
            "['[CLS]', 'আমি', 'আমার', 'ব্যয়ের', 'ইতিহাস', 'যাচাই', 'করতে', 'চাই', '[SEP]']\n",
            "['আমার', 'আমার', 'ব্যয়ের', 'ইতিহাস', 'পরীক্ষা', 'করা', 'দরকার']\n",
            "['[CLS]', 'আমার', 'আমার', 'ব্যয়ের', 'ইতিহাস', 'পরীক্ষা', 'করা', 'দরকার', '[SEP]']\n",
            "['আমি', 'আমার', 'ব্যয়', 'পরীক্ষা', 'করতে', 'চাই']\n",
            "['[CLS]', 'আমি', 'আমার', 'ব্যয়', 'পরীক্ষা', 'করতে', 'চাই', '[SEP]']\n",
            "['আমি', 'আমার', 'ব্যয়ের', 'ইতিহাস', 'পরীক্ষা', 'করতে', 'চাই']\n",
            "['[CLS]', 'আমি', 'আমার', 'ব্যয়ের', 'ইতিহাস', 'পরীক্ষা', 'করতে', 'চাই', '[SEP]']\n",
            "['আমি', 'আমার', 'লেনদেনের', 'ইতিহাস', 'দেখতে', 'চাই']\n",
            "['[CLS]', 'আমি', 'আমার', 'লেনদেনের', 'ইতিহাস', 'দেখতে', 'চাই', '[SEP]']\n",
            "['আমি', 'আমার', 'অতীত', 'লেনদেন', 'অনুসন্ধান', 'করতে', 'চাই']\n",
            "['[CLS]', 'আমি', 'আমার', 'অতীত', 'লেনদেন', 'অনুসন্ধান', 'করতে', 'চাই', '[SEP]']\n",
            "['আমি', 'কি', 'আমার', 'লেনদেনের', 'ইতিহাস', 'অনুসন্ধান', 'করতে', 'পারি', '?']\n",
            "['[CLS]', 'আমি', 'কি', 'আমার', 'লেনদেনের', 'ইতিহাস', 'অনুসন্ধান', 'করতে', 'পারি', '?', '[SEP]']\n",
            "['আমি', 'কি', 'পূর্বের', 'লেনদেনের', 'দিকে', 'নজর', 'দিতে', 'পারি', '?']\n",
            "['[CLS]', 'আমি', 'কি', 'পূর্বের', 'লেনদেনের', 'দিকে', 'নজর', 'দিতে', 'পারি', '?', '[SEP]']\n",
            "['আমি', 'কি', 'লক্ষ্য', 'নিয়ে', 'আমার', 'লেনদেন', 'দেখতে', 'পারি', '?']\n",
            "['[CLS]', 'আমি', 'কি', 'লক্ষ্য', 'নিয়ে', 'আমার', 'লেনদেন', 'দেখতে', 'পারি', '?', '[SEP]']\n",
            "['গত', 'মাসে', 'আমি', 'কী', 'ব্যয়', 'করেছি', '?']\n",
            "['[CLS]', 'গত', 'মাসে', 'আমি', 'কী', 'ব্যয়', 'করেছি', '?', '[SEP]']\n",
            "['গত', 'মাসে', 'আমি', 'কতটা', 'ব্যয়', 'করেছি', '?']\n",
            "['[CLS]', 'গত', 'মাসে', 'আমি', 'কতটা', 'ব্যয়', 'করেছি', '?', '[SEP]']\n",
            "['কোন', 'জায়গায়', 'আমি', 'অর্থ', 'ব্যয়', 'করেছি', '?']\n",
            "['[CLS]', 'কোন', 'জায়গায়', 'আমি', 'অর্থ', 'ব্যয়', 'করেছি', '?', '[SEP]']\n",
            "['বিদায়', 'আপনাকে', 'ধন্যবাদ']\n",
            "['[CLS]', 'বিদায়', 'আপনাকে', 'ধন্যবাদ', '[SEP]']\n",
            "['ঠিক', 'আছে', 'বিদায়', 'আপনাকে', 'ধন্যবাদ']\n",
            "['[CLS]', 'ঠিক', 'আছে', 'বিদায়', 'আপনাকে', 'ধন্যবাদ', '[SEP]']\n",
            "['ধন্যবাদ', 'আবার', 'দেখা', 'হবে']\n",
            "['[CLS]', 'ধন্যবাদ', 'আবার', 'দেখা', 'হবে', '[SEP]']\n",
            "['আমি', 'আপনাকে', 'ধন্যবাদ', 'বিদায়', 'ধন্যবাদ']\n",
            "['[CLS]', 'আমি', 'আপনাকে', 'ধন্যবাদ', 'বিদায়', 'ধন্যবাদ', '[SEP]']\n",
            "['ধন্যবাদ']\n",
            "['[CLS]', 'ধন্যবাদ', '[SEP]']\n",
            "['এবং', 'সবাই', 'ধন্যবাদ', 'এবং', 'বিদায়', 'আপনাকে', 'ধন্যবাদ']\n",
            "['[CLS]', 'এবং', 'সবাই', 'ধন্যবাদ', 'এবং', 'বিদায়', 'আপনাকে', 'ধন্যবাদ', '[SEP]']\n",
            "['ঠিক', 'আছে', 'ধন্যবাদ']\n",
            "['[CLS]', 'ঠিক', 'আছে', 'ধন্যবাদ', '[SEP]']\n",
            "['ধন্যবাদ']\n",
            "['[CLS]', 'ধন্যবাদ', '[SEP]']\n",
            "['ধন্যবাদ', 'বিদায়']\n",
            "['[CLS]', 'ধন্যবাদ', 'বিদায়', '[SEP]']\n",
            "['আপনাকে', 'ধন্যবাদ', 'এবং', 'বিদায়']\n",
            "['[CLS]', 'আপনাকে', 'ধন্যবাদ', 'এবং', 'বিদায়', '[SEP]']\n",
            "['ধন্যবাদ', '!']\n",
            "['[CLS]', 'ধন্যবাদ', '!', '[SEP]']\n",
            "['আমি', 'পরিশোধ', 'করতে', 'চাই']\n",
            "['[CLS]', 'আমি', 'পরিশোধ', 'করতে', 'চাই', '[SEP]']\n",
            "['আমি', 'কি', 'টাকা', 'স্থানান্তর', 'করতে', 'পারি', '?']\n",
            "['[CLS]', 'আমি', 'কি', 'টাকা', 'স্থানান্তর', 'করতে', 'পারি', '?', '[SEP]']\n",
            "['আমি', 'টাকা', 'স্থানান্তর', 'করতে', 'চাই']\n",
            "['[CLS]', 'আমি', 'টাকা', 'স্থানান্তর', 'করতে', 'চাই', '[SEP]']\n",
            "['আমি', 'কাউকে', 'দিতে', 'চাই']\n",
            "['[CLS]', 'আমি', 'কাউকে', 'দিতে', 'চাই', '[SEP]']\n",
            "['আমি', 'কি', 'কাউকে', 'দিতে', 'পারি', '?']\n",
            "['[CLS]', 'আমি', 'কি', 'কাউকে', 'দিতে', 'পারি', '?', '[SEP]']\n",
            "['আমার', 'এক', 'বন্ধুর', 'কাছে', 'অর্থ', 'স্থানান্তর', 'করা', 'দরকার']\n",
            "['[CLS]', 'আমার', 'এক', 'বন্ধুর', 'কাছে', 'অর্থ', 'স্থানান্তর', 'করা', 'দরকার', '[SEP]']\n",
            "['আমি', 'কি', 'আমার', 'মায়ের', 'কাছে', 'অর্থ', 'স্থানান্তর', 'করতে', 'পারি', '?']\n",
            "['[CLS]', 'আমি', 'কি', 'আমার', 'মায়ের', 'কাছে', 'অর্থ', 'স্থানান্তর', 'করতে', 'পারি', '?', '[SEP]']\n",
            "['আমি', 'বিল', 'দিতে', 'চাই']\n",
            "['[CLS]', 'আমি', 'বিল', 'দিতে', 'চাই', '[SEP]']\n",
            "['আমার', 'বন্ধুকে', 'টাকা', 'দাও']\n",
            "['[CLS]', 'আমার', 'বন্ধুকে', 'টাকা', 'দাও', '[SEP]']\n",
            "['অর্থ', 'স্থানান্তর']\n",
            "['[CLS]', 'অর্থ', 'স্থানান্তর', '[SEP]']\n",
            "['আমি', '100', 'টাকা', 'স্থানান্তর', 'করতে', 'চাই']\n",
            "['[CLS]', 'আমি', '100', 'টাকা', 'স্থানান্তর', 'করতে', 'চাই', '[SEP]']\n",
            "['আমি', '100', 'টাকা', 'স্থানান্তর', 'করতে', 'চাই']\n",
            "['[CLS]', 'আমি', '100', 'টাকা', 'স্থানান্তর', 'করতে', 'চাই', '[SEP]']\n",
            "['দয়া', 'করে', '40', 'টাকা', 'দিন']\n",
            "['[CLS]', 'দয়া', 'করে', '40', 'টাকা', 'দিন', '[SEP]']\n",
            "['আমি', 'কি', 'টাকা', 'স্থানান্তর', 'করতে', 'পারি', '?']\n",
            "['[CLS]', 'আমি', 'কি', 'টাকা', 'স্থানান্তর', 'করতে', 'পারি', '?', '[SEP]']\n",
            "['আমার', 'এক', 'বন্ধুকে', 'টাকা', 'দেওয়া', 'দরকার']\n",
            "['[CLS]', 'আমার', 'এক', 'বন্ধুকে', 'টাকা', 'দেওয়া', 'দরকার', '[SEP]']\n",
            "['আমি', 'কাকে', 'টাকা', 'পাঠাতে', 'পারি', '?']\n",
            "['[CLS]', 'আমি', 'কাকে', 'টাকা', 'পাঠাতে', 'পারি', '?', '[SEP]']\n",
            "['আমার', 'পরিচিত', 'প্রাপক', 'কারা', '?']\n",
            "['[CLS]', 'আমার', 'পরিচিত', 'প্রাপক', 'কারা', '?', '[SEP]']\n",
            "['আমাকে', 'আমার', 'প্রাপক', '##দের', 'তালিকা', 'প্রদর্শন', 'করুন']\n",
            "['[CLS]', 'আমাকে', 'আমার', 'প্রাপক', '##দের', 'তালিকা', 'প্রদর্শন', 'করুন', '[SEP]']\n",
            "['প্রাপক', 'তালিকা', 'প্রদর্শন', 'করুন']\n",
            "['[CLS]', 'প্রাপক', 'তালিকা', 'প্রদর্শন', 'করুন', '[SEP]']\n",
            "['আমি', 'যাদের', 'কাছে', 'টাকা', 'পাঠাতে', 'পারি', 'সেগুলি', 'আমাকে', 'দেখান']\n",
            "['[CLS]', 'আমি', 'যাদের', 'কাছে', 'টাকা', 'পাঠাতে', 'পারি', 'সেগুলি', 'আমাকে', 'দেখান', '[SEP]']\n",
            "['যিনি', 'বৈধ', 'প্রাপক']\n",
            "['[CLS]', 'যিনি', 'বৈধ', 'প্রাপক', '[SEP]']\n",
            "['আমি', 'কাকে', 'দিতে', 'পারি', '?']\n",
            "['[CLS]', 'আমি', 'কাকে', 'দিতে', 'পারি', '?', '[SEP]']\n",
            "['আমি', 'কে', 'টাকা', 'ট্রান্স', '##ফা', '##র', 'করতে', 'পারি', '?']\n",
            "['[CLS]', 'আমি', 'কে', 'টাকা', 'ট্রান্স', '##ফা', '##র', 'করতে', 'পারি', '?', '[SEP]']\n",
            "['আমার', 'প্রাপকের', 'তালিকায়', 'কে', '?']\n",
            "['[CLS]', 'আমার', 'প্রাপকের', 'তালিকায়', 'কে', '?', '[SEP]']\n",
            "['আমি', 'কার', 'কাছে', 'অর্থ', 'স্থানান্তর', 'করতে', 'পারি', '?']\n",
            "['[CLS]', 'আমি', 'কার', 'কাছে', 'অর্থ', 'স্থানান্তর', 'করতে', 'পারি', '?', '[SEP]']\n",
            "['আপনার', 'তালিকায়', 'কে', '?']\n",
            "['[CLS]', 'আপনার', 'তালিকায়', 'কে', '?', '[SEP]']\n",
            "['আমার', 'কাউন্ট', 'প্রাপক', '##দের', 'তালিকায়', 'কে', '?']\n",
            "['[CLS]', 'আমার', 'কাউন্ট', 'প্রাপক', '##দের', 'তালিকায়', 'কে', '?', '[SEP]']\n",
            "['আমরা', 'কি', 'আবার', 'শুরু', 'করতে', 'পারি', '?']\n",
            "['[CLS]', 'আমরা', 'কি', 'আবার', 'শুরু', 'করতে', 'পারি', '?', '[SEP]']\n",
            "['সাহায্য']\n",
            "['[CLS]', 'সাহায্য', '[SEP]']\n",
            "['আপনি', 'কি', 'করতে', 'পারেন', '?']\n",
            "['[CLS]', 'আপনি', 'কি', 'করতে', 'পারেন', '?', '[SEP]']\n",
            "['আমি', 'তোমাকে', 'কি', 'জিজ্ঞাসা', 'করতে', 'পারি', '?']\n",
            "['[CLS]', 'আমি', 'তোমাকে', 'কি', 'জিজ্ঞাসা', 'করতে', 'পারি', '?', '[SEP]']\n",
            "['আপনি', 'কি', 'আমাকে', 'সাহায্য', 'করতে', 'পারেন', '?']\n",
            "['[CLS]', 'আপনি', 'কি', 'আমাকে', 'সাহায্য', 'করতে', 'পারেন', '?', '[SEP]']\n",
            "['আমাকে', 'সাহায্য', 'কর']\n",
            "['[CLS]', 'আমাকে', 'সাহায্য', 'কর', '[SEP]']\n",
            "['আপনি', 'কি', 'সাহায্য', 'করুন']\n",
            "['[CLS]', 'আপনি', 'কি', 'সাহায্য', 'করুন', '[SEP]']\n",
            "['আমি', 'এটি', 'কীভাবে', 'ব্যবহার', 'করব']\n",
            "['[CLS]', 'আমি', 'এটি', 'কীভাবে', 'ব্যবহার', 'করব', '[SEP]']\n",
            "['আপনি', 'কেমন', 'করে', 'আমাকে', 'সাহায্য', 'করতে', 'পারেন']\n",
            "['[CLS]', 'আপনি', 'কেমন', 'করে', 'আমাকে', 'সাহায্য', 'করতে', 'পারেন', '[SEP]']\n",
            "['আপনি', 'কি', 'করতে', 'পারেন', 'কি', 'জিনিস', '?']\n",
            "['[CLS]', 'আপনি', 'কি', 'করতে', 'পারেন', 'কি', 'জিনিস', '?', '[SEP]']\n",
            "['আমি', 'একজন', 'মানুষ', 'চাই']\n",
            "['[CLS]', 'আমি', 'একজন', 'মানুষ', 'চাই', '[SEP]']\n",
            "['আমি', 'কি', 'কোনও', 'এজেন্টের', 'সাথে', 'কথা', 'বলতে', 'পারি', '?']\n",
            "['[CLS]', 'আমি', 'কি', 'কোনও', 'এজেন্টের', 'সাথে', 'কথা', 'বলতে', 'পারি', '?', '[SEP]']\n",
            "['প্রকৃত', 'এজেন্ট', 'দয়া', 'করে']\n",
            "['[CLS]', 'প্রকৃত', 'এজেন্ট', 'দয়া', 'করে', '[SEP]']\n",
            "['বাস্তব', 'মানব']\n",
            "['[CLS]', 'বাস্তব', 'মানব', '[SEP]']\n",
            "['লাইভ', 'এজেন্টের', 'সাথে', 'চ্যাট', 'করুন']\n",
            "['[CLS]', 'লাইভ', 'এজেন্টের', 'সাথে', 'চ্যাট', 'করুন', '[SEP]']\n",
            "['দয়া', 'করে', 'আমাকে', 'একজনকে', 'দিন']\n",
            "['[CLS]', 'দয়া', 'করে', 'আমাকে', 'একজনকে', 'দিন', '[SEP]']\n",
            "['আমি', 'মানুষের', 'সাথে', 'কথা', 'বলতে', 'চাই']\n",
            "['[CLS]', 'আমি', 'মানুষের', 'সাথে', 'কথা', 'বলতে', 'চাই', '[SEP]']\n",
            "['একটি', 'মানুষের', 'স্থানান্তর']\n",
            "['[CLS]', 'একটি', 'মানুষের', 'স্থানান্তর', '[SEP]']\n",
            "['দয়া', 'করে', 'আমাকে', 'একটি', 'মানব', '##কে', 'দিন']\n",
            "['[CLS]', 'দয়া', 'করে', 'আমাকে', 'একটি', 'মানব', '##কে', 'দিন', '[SEP]']\n",
            "['ক্রেডিট', 'কার্ড']\n",
            "['[CLS]', 'ক্রেডিট', 'কার্ড', '[SEP]']\n",
            "['ক্রেডিট', 'কার্ড']\n",
            "['[CLS]', 'ক্রেডিট', 'কার্ড', '[SEP]']\n",
            "['ক্রেডিট', 'অ্যাকাউন্ট']\n",
            "['[CLS]', 'ক্রেডিট', 'অ্যাকাউন্ট', '[SEP]']\n",
            "['ক্রেডিট', 'অ্যাকাউন্ট']\n",
            "['[CLS]', 'ক্রেডিট', 'অ্যাকাউন্ট', '[SEP]']\n",
            "['ডেবিট', 'কার্ড']\n",
            "['[CLS]', 'ডেবিট', 'কার্ড', '[SEP]']\n",
            "['ডেবিট', 'কার্ড']\n",
            "['[CLS]', 'ডেবিট', 'কার্ড', '[SEP]']\n",
            "['ডেবিট', 'অ্যাকাউন্ট']\n",
            "['[CLS]', 'ডেবিট', 'অ্যাকাউন্ট', '[SEP]']\n",
            "['ডেবিট', 'অ্যাকাউন্ট']\n",
            "['[CLS]', 'ডেবিট', 'অ্যাকাউন্ট', '[SEP]']\n",
            "['ক্রেডিট', 'অ্যাকাউন্ট']\n",
            "['[CLS]', 'ক্রেডিট', 'অ্যাকাউন্ট', '[SEP]']\n",
            "['ক্রেডিট']\n",
            "['[CLS]', 'ক্রেডিট', '[SEP]']\n",
            "['ডেবিট', 'অ্যাকাউন্ট']\n",
            "['[CLS]', 'ডেবিট', 'অ্যাকাউন্ট', '[SEP]']\n",
            "['ডেবিট']\n",
            "['[CLS]', 'ডেবিট', '[SEP]']\n",
            "['ডেবিট', 'অ্যাকাউন্ট']\n",
            "['[CLS]', 'ডেবিট', 'অ্যাকাউন্ট', '[SEP]']\n",
            "['সঞ্চয়', 'অ্যাকাউন্ট']\n",
            "['[CLS]', 'সঞ্চয়', 'অ্যাকাউন্ট', '[SEP]']\n",
            "['যৌথ', 'হিসাব']\n",
            "['[CLS]', 'যৌথ', 'হিসাব', '[SEP]']\n",
            "['সঞ্চয়', 'অ্যাকাউন্ট']\n",
            "['[CLS]', 'সঞ্চয়', 'অ্যাকাউন্ট', '[SEP]']\n",
            "['আমাকে', 'আমার', 'ক্রেডিট', 'কার্ডের', 'ব্যালেন্স', 'দেখান']\n",
            "['[CLS]', 'আমাকে', 'আমার', 'ক্রেডিট', 'কার্ডের', 'ব্যালেন্স', 'দেখান', '[SEP]']\n",
            "['আমার', 'কী', 'ক্রেডিট', 'অ্যাকাউন্ট', 'আছে']\n",
            "['[CLS]', 'আমার', 'কী', 'ক্রেডিট', 'অ্যাকাউন্ট', 'আছে', '[SEP]']\n",
            "['আমাকে', 'আমার', 'ক্রেডিট', 'অ্যাকাউন্ট', '##গুলি', 'দেখান']\n",
            "['[CLS]', 'আমাকে', 'আমার', 'ক্রেডিট', 'অ্যাকাউন্ট', '##গুলি', 'দেখান', '[SEP]']\n",
            "['আমার', 'ক্রেডিট', 'অ্যাকাউন্টে', 'কি', 'পরিমাণ', 'ব্যালেন্স', 'রয়েছে']\n",
            "['[CLS]', 'আমার', 'ক্রেডিট', 'অ্যাকাউন্টে', 'কি', 'পরিমাণ', 'ব্যালেন্স', 'রয়েছে', '[SEP]']\n",
            "['আমার', 'ক্রেডিট', 'অ্যাকাউন্ট', 'কি']\n",
            "['[CLS]', 'আমার', 'ক্রেডিট', 'অ্যাকাউন্ট', 'কি', '[SEP]']\n",
            "['আমার', 'ক্রেডিট', 'সব', 'ব্যালেন্স', 'কি']\n",
            "['[CLS]', 'আমার', 'ক্রেডিট', 'সব', 'ব্যালেন্স', 'কি', '[SEP]']\n",
            "['আমার', 'প্রতীক', 'কার্ডের', 'ব্যালেন্স', 'কী']\n",
            "['[CLS]', 'আমার', 'প্রতীক', 'কার্ডের', 'ব্যালেন্স', 'কী', '[SEP]']\n",
            "['ক্রেডিট', 'সমস্ত', 'অ্যাকাউন্টে', 'ব্যালেন্স', 'কি']\n",
            "['[CLS]', 'ক্রেডিট', 'সমস্ত', 'অ্যাকাউন্টে', 'ব্যালেন্স', 'কি', '[SEP]']\n",
            "['আমাকে', 'আমার', 'আয়রন', 'ব্যাঙ্কের', 'ব্যালেন্স', 'দেখান']\n",
            "['[CLS]', 'আমাকে', 'আমার', 'আয়রন', 'ব্যাঙ্কের', 'ব্যালেন্স', 'দেখান', '[SEP]']\n",
            "['আমার', 'ন্যায়বিচার', 'ব্যাংক', 'ব্যালেন্স', 'কি']\n",
            "['[CLS]', 'আমার', 'ন্যায়বিচার', 'ব্যাংক', 'ব্যালেন্স', 'কি', '[SEP]']\n",
            "['বিচার', 'ব্যাংক', 'অ্যাকাউন্টে', 'কী', 'পরিমাণ', 'ব্যালেন্স', 'রয়েছে']\n",
            "['[CLS]', 'বিচার', 'ব্যাংক', 'অ্যাকাউন্টে', 'কী', 'পরিমাণ', 'ব্যালেন্স', 'রয়েছে', '[SEP]']\n",
            "['আমার', 'প্রতীক', 'ক্রেডিট', 'কার্ডের', 'ব্যালেন্স', 'কি', '?']\n",
            "['[CLS]', 'আমার', 'প্রতীক', 'ক্রেডিট', 'কার্ডের', 'ব্যালেন্স', 'কি', '?', '[SEP]']\n",
            "['আমার', 'ক্রেডিট', 'কার্ডের', 'ব্যালেন্স', 'কি', '?']\n",
            "['[CLS]', 'আমার', 'ক্রেডিট', 'কার্ডের', 'ব্যালেন্স', 'কি', '?', '[SEP]']\n",
            "['আমার', 'প্রতীক', 'কার্ডের', 'ব্যালেন্স', 'কি', '?']\n",
            "['[CLS]', 'আমার', 'প্রতীক', 'কার্ডের', 'ব্যালেন্স', 'কি', '?', '[SEP]']\n",
            "['আমার', 'আত্মার', 'কার্ডের', 'ব্যালেন্স', 'কত', '?']\n",
            "['[CLS]', 'আমার', 'আত্মার', 'কার্ডের', 'ব্যালেন্স', 'কত', '?', '[SEP]']\n",
            "['গত', 'বছর', 'আমি', 'কত', 'টাকা', 'উপার্জন', 'করেছি', '?']\n",
            "['[CLS]', 'গত', 'বছর', 'আমি', 'কত', 'টাকা', 'উপার্জন', 'করেছি', '?', '[SEP]']\n",
            "['গত', 'মাসে', 'আমি', 'কী', 'উপার্জন', 'করেছি', '?']\n",
            "['[CLS]', 'গত', 'মাসে', 'আমি', 'কী', 'উপার্জন', 'করেছি', '?', '[SEP]']\n",
            "['গত', 'মাসে', 'আমি', 'কতটা', 'করেছি', '?']\n",
            "['[CLS]', 'গত', 'মাসে', 'আমি', 'কতটা', 'করেছি', '?', '[SEP]']\n",
            "['গত', 'সপ্তাহে', 'আমি', 'কত', 'টাকা', 'উপার্জন', 'করেছি', '?']\n",
            "['[CLS]', 'গত', 'সপ্তাহে', 'আমি', 'কত', 'টাকা', 'উপার্জন', 'করেছি', '?', '[SEP]']\n",
            "['গত', 'মাসে', 'আমার', 'অ্যাকাউন্টে', 'কত', 'জমা', 'ছিল', '?']\n",
            "['[CLS]', 'গত', 'মাসে', 'আমার', 'অ্যাকাউন্টে', 'কত', 'জমা', 'ছিল', '?', '[SEP]']\n",
            "['গত', 'দুই', 'সপ্তাহে', 'আমার', 'অ্যাকাউন্টে', 'কত', 'জমা', 'ছিল', '?']\n",
            "['[CLS]', 'গত', 'দুই', 'সপ্তাহে', 'আমার', 'অ্যাকাউন্টে', 'কত', 'জমা', 'ছিল', '?', '[SEP]']\n",
            "['গত', 'সপ্তাহের', 'জন্য', 'আমানত', 'চেক', 'করুন']\n",
            "['[CLS]', 'গত', 'সপ্তাহের', 'জন্য', 'আমানত', 'চেক', 'করুন', '[SEP]']\n",
            "['গত', 'বছরের', 'তুলনায়', 'মোট', 'আমানত']\n",
            "['[CLS]', 'গত', 'বছরের', 'তুলনায়', 'মোট', 'আমানত', '[SEP]']\n",
            "['জানুয়ারী', '##তে', 'কত', 'জমা', 'ছিল']\n",
            "['[CLS]', 'জানুয়ারী', '##তে', 'কত', 'জমা', 'ছিল', '[SEP]']\n",
            "['কখনই', 'না']\n",
            "['[CLS]', 'কখনই', 'না', '[SEP]']\n",
            "['কোনভাবেই', 'না']\n",
            "['[CLS]', 'কোনভাবেই', 'না', '[SEP]']\n",
            "['না']\n",
            "['[CLS]', 'না', '[SEP]']\n",
            "['আমি', 'আমার', 'প্রতীক', 'ক্রেডিট', 'কার্ড', 'প্রদান', 'করতে', 'চাই']\n",
            "['[CLS]', 'আমি', 'আমার', 'প্রতীক', 'ক্রেডিট', 'কার্ড', 'প্রদান', 'করতে', 'চাই', '[SEP]']\n",
            "['আমি', 'আমার', 'ক্রেডিট', 'কার্ডে', 'আমার', 'বর্তমান', 'ব্যালেন্স', 'দিতে', 'চাই']\n",
            "['[CLS]', 'আমি', 'আমার', 'ক্রেডিট', 'কার্ডে', 'আমার', 'বর্তমান', 'ব্যালেন্স', 'দিতে', 'চাই', '[SEP]']\n",
            "['আমার', 'ন্যূনতম', 'ব্যালেন্স', 'পরিশোধ', 'করুন']\n",
            "['[CLS]', 'আমার', 'ন্যূনতম', 'ব্যালেন্স', 'পরিশোধ', 'করুন', '[SEP]']\n",
            "['আমি', 'আমার', 'ভিসার', 'বিলও', 'দিতে', 'চাই']\n",
            "['[CLS]', 'আমি', 'আমার', 'ভিসার', 'বিলও', 'দিতে', 'চাই', '[SEP]']\n",
            "['আমি', 'অনুমান', 'করি', 'এটা', '।', 'যেহেতু', 'এটি', 'অনেক', 'বেশি', 'যাক', 'আমার', 'credit', '##ণ', 'পরিশোধ', 'করা', 'যাক']\n",
            "['[CLS]', 'আমি', 'অনুমান', 'করি', 'এটা', '।', 'যেহেতু', 'এটি', 'অনেক', 'বেশি', 'যাক', 'আমার', 'credit', '##ণ', 'পরিশোধ', 'করা', 'যাক', '[SEP]']\n",
            "['এই', 'সপ্তাহে', 'আমি', 'কতটা', 'ব্যয়', 'করেছি', '?']\n",
            "['[CLS]', 'এই', 'সপ্তাহে', 'আমি', 'কতটা', 'ব্যয়', 'করেছি', '?', '[SEP]']\n",
            "['আমি', 'আমার', 'ব্যয়ের', 'ইতিহাস', 'যাচাই', 'করতে', 'চাই']\n",
            "['[CLS]', 'আমি', 'আমার', 'ব্যয়ের', 'ইতিহাস', 'যাচাই', 'করতে', 'চাই', '[SEP]']\n",
            "['দয়া', 'করে', 'আমাকে', 'একজনকে', 'দিন']\n",
            "['[CLS]', 'দয়া', 'করে', 'আমাকে', 'একজনকে', 'দিন', '[SEP]']\n",
            "['আমি', 'মানুষের', 'সাথে', 'কথা', 'বলতে', 'চাই']\n",
            "['[CLS]', 'আমি', 'মানুষের', 'সাথে', 'কথা', 'বলতে', 'চাই', '[SEP]']\n",
            "['একটি', 'মানুষের', 'স্থানান্তর']\n",
            "['[CLS]', 'একটি', 'মানুষের', 'স্থানান্তর', '[SEP]']\n",
            "['দয়া', 'করে', 'আমাকে', 'একটি', 'মানব', '##কে', 'দিন']\n",
            "['[CLS]', 'দয়া', 'করে', 'আমাকে', 'একটি', 'মানব', '##কে', 'দিন', '[SEP]']\n",
            "['ক্রেডিট', 'কার্ড']\n",
            "['[CLS]', 'ক্রেডিট', 'কার্ড', '[SEP]']\n",
            "['ক্রেডিট', 'কার্ড']\n",
            "['[CLS]', 'ক্রেডিট', 'কার্ড', '[SEP]']\n",
            "['ডেবিট', 'অ্যাকাউন্ট']\n",
            "['[CLS]', 'ডেবিট', 'অ্যাকাউন্ট', '[SEP]']\n",
            "['ডেবিট']\n",
            "['[CLS]', 'ডেবিট', '[SEP]']\n",
            "max seq_len 18\n"
          ],
          "name": "stdout"
        },
        {
          "output_type": "stream",
          "text": [
            "\n"
          ],
          "name": "stderr"
        }
      ]
    },
    {
      "cell_type": "code",
      "metadata": {
        "id": "12yx9lqoP8Q4",
        "outputId": "fc95a1e1-38bd-4861-a5f0-1bbfab099f32",
        "colab": {
          "base_uri": "https://localhost:8080/"
        }
      },
      "source": [
        "data.train_x.shape\n",
        "data.train_x[0]\n",
        "data.train_y[0]\n",
        "data.max_seq_len"
      ],
      "execution_count": 40,
      "outputs": [
        {
          "output_type": "execute_result",
          "data": {
            "text/plain": [
              "18"
            ]
          },
          "metadata": {
            "tags": []
          },
          "execution_count": 40
        }
      ]
    },
    {
      "cell_type": "code",
      "metadata": {
        "id": "AyTWaFaWQDEu",
        "outputId": "6f80dfc3-d835-4b8c-f240-87f5ea501544",
        "colab": {
          "base_uri": "https://localhost:8080/"
        }
      },
      "source": [
        "model = create_model(data.max_seq_len, bert_ckpt_file)"
      ],
      "execution_count": 41,
      "outputs": [
        {
          "output_type": "stream",
          "text": [
            "bert shape (None, 18, 768)\n",
            "loader: Skipping weight:[bert/embeddings/word_embeddings/embeddings:0] as the weight shape:[(226645, 768)] is not compatible with the checkpoint:[bert/embeddings/word_embeddings] shape:(119547, 768)\n",
            "Done loading 195 BERT weights from: model/multi_cased_L-12_H-768_A-12/bert_model.ckpt into <bert.model.BertModelLayer object at 0x7efdf437aa90> (prefix:bert). Count of weights not found in the checkpoint was: [0]. Count of weights with mismatched shape: [1]\n",
            "Unused weights from checkpoint: \n",
            "\tbert/embeddings/token_type_embeddings\n",
            "\tbert/embeddings/word_embeddings\n",
            "\tbert/pooler/dense/bias\n",
            "\tbert/pooler/dense/kernel\n",
            "\tcls/predictions/output_bias\n",
            "\tcls/predictions/transform/LayerNorm/beta\n",
            "\tcls/predictions/transform/LayerNorm/gamma\n",
            "\tcls/predictions/transform/dense/bias\n",
            "\tcls/predictions/transform/dense/kernel\n",
            "\tcls/seq_relationship/output_bias\n",
            "\tcls/seq_relationship/output_weights\n"
          ],
          "name": "stdout"
        }
      ]
    },
    {
      "cell_type": "code",
      "metadata": {
        "id": "3JHlwMiKQS_w",
        "outputId": "05954d1b-846f-4a04-af13-b9ebb11e5b7a",
        "colab": {
          "base_uri": "https://localhost:8080/"
        }
      },
      "source": [
        "model.summary()"
      ],
      "execution_count": 42,
      "outputs": [
        {
          "output_type": "stream",
          "text": [
            "Model: \"functional_3\"\n",
            "_________________________________________________________________\n",
            "Layer (type)                 Output Shape              Param #   \n",
            "=================================================================\n",
            "input_ids (InputLayer)       [(None, 18)]              0         \n",
            "_________________________________________________________________\n",
            "bert (BertModelLayer)        (None, 18, 768)           259512576 \n",
            "_________________________________________________________________\n",
            "lambda_1 (Lambda)            (None, 768)               0         \n",
            "_________________________________________________________________\n",
            "dropout_2 (Dropout)          (None, 768)               0         \n",
            "_________________________________________________________________\n",
            "dense_2 (Dense)              (None, 768)               590592    \n",
            "_________________________________________________________________\n",
            "dropout_3 (Dropout)          (None, 768)               0         \n",
            "_________________________________________________________________\n",
            "dense_3 (Dense)              (None, 19)                14611     \n",
            "=================================================================\n",
            "Total params: 260,117,779\n",
            "Trainable params: 260,117,779\n",
            "Non-trainable params: 0\n",
            "_________________________________________________________________\n"
          ],
          "name": "stdout"
        }
      ]
    },
    {
      "cell_type": "code",
      "metadata": {
        "id": "XDkG7cSSQYBr"
      },
      "source": [
        "model.compile(\n",
        "  optimizer=keras.optimizers.Adam(1e-5),\n",
        "  loss=keras.losses.SparseCategoricalCrossentropy(from_logits=True),\n",
        "  metrics=[keras.metrics.SparseCategoricalAccuracy(name=\"acc\")]\n",
        ")"
      ],
      "execution_count": 43,
      "outputs": []
    },
    {
      "cell_type": "code",
      "metadata": {
        "id": "_yoGMjIbQd8O",
        "outputId": "335eb64f-a1bb-43b6-ee4c-9d65d4d474bc",
        "colab": {
          "base_uri": "https://localhost:8080/"
        }
      },
      "source": [
        "log_dir = \"log/intent_detection/\" + datetime.datetime.now().strftime(\"%Y%m%d-%H%M%s\")\n",
        "tensorboard_callback = keras.callbacks.TensorBoard(log_dir=log_dir)\n",
        "\n",
        "history = model.fit(\n",
        "  x=data.train_x, \n",
        "  y=data.train_y,\n",
        "  validation_split=0.1,\n",
        "  batch_size=16,\n",
        "  shuffle=True,\n",
        "  epochs=5,\n",
        "  callbacks=[tensorboard_callback]\n",
        ")"
      ],
      "execution_count": 44,
      "outputs": [
        {
          "output_type": "stream",
          "text": [
            "Epoch 1/5\n",
            "16/16 [==============================] - 86s 5s/step - loss: 2.9263 - acc: 0.0847 - val_loss: 2.9980 - val_acc: 0.0000e+00\n",
            "Epoch 2/5\n",
            "16/16 [==============================] - 77s 5s/step - loss: 2.8647 - acc: 0.1815 - val_loss: 3.0276 - val_acc: 0.0000e+00\n",
            "Epoch 3/5\n",
            "16/16 [==============================] - 77s 5s/step - loss: 2.8166 - acc: 0.2298 - val_loss: 3.0076 - val_acc: 0.0000e+00\n",
            "Epoch 4/5\n",
            "16/16 [==============================] - 77s 5s/step - loss: 2.7858 - acc: 0.2863 - val_loss: 3.0279 - val_acc: 0.0000e+00\n",
            "Epoch 5/5\n",
            "16/16 [==============================] - 77s 5s/step - loss: 2.7266 - acc: 0.3105 - val_loss: 3.0291 - val_acc: 0.0000e+00\n"
          ],
          "name": "stdout"
        }
      ]
    },
    {
      "cell_type": "code",
      "metadata": {
        "id": "VFJzhW2iT4Qv",
        "outputId": "6f1ca78d-debe-4cc1-d9f6-9e79b64c8f1c",
        "colab": {
          "base_uri": "https://localhost:8080/"
        }
      },
      "source": [
        "_, train_acc = model.evaluate(data.train_x, data.train_y)\n",
        "_, test_acc = model.evaluate(data.test_x, data.test_y)\n",
        "\n",
        "print(\"train acc\", train_acc)\n",
        "print(\"test acc\", test_acc)"
      ],
      "execution_count": 45,
      "outputs": [
        {
          "output_type": "stream",
          "text": [
            "9/9 [==============================] - 15s 2s/step - loss: 2.7509 - acc: 0.2790\n",
            "2/2 [==============================] - 1s 349ms/step - loss: 2.6718 - acc: 0.3571\n",
            "train acc 0.27898550033569336\n",
            "test acc 0.3571428656578064\n"
          ],
          "name": "stdout"
        }
      ]
    },
    {
      "cell_type": "code",
      "metadata": {
        "id": "LffpRqHgUWVC"
      },
      "source": [
        "y_pred = model.predict(data.test_x).argmax(axis=-1)"
      ],
      "execution_count": 46,
      "outputs": []
    },
    {
      "cell_type": "code",
      "metadata": {
        "id": "6iWEdg0yUb-o",
        "outputId": "ac49e3c0-760a-4324-815a-7856b48f1816",
        "colab": {
          "base_uri": "https://localhost:8080/"
        }
      },
      "source": [
        "sentences = [\n",
        "  \"দয়া করে আমাকে একজনকে দিন\",\n",
        "  \"আমি একটা অ্যাকাউন্ট খুলতে চাই \",\n",
        "  \"আমার ক্রেডিট কার্ডের ব্যালেন্স কি?\"\n",
        "]\n",
        "\n",
        "pred_tokens = map(tokenizer.tokenize, sentences)\n",
        "pred_tokens = map(lambda tok: [\"[CLS]\"] + tok + [\"[SEP]\"], pred_tokens)\n",
        "pred_token_ids = list(map(tokenizer.convert_tokens_to_ids, pred_tokens))\n",
        "\n",
        "pred_token_ids = map(lambda tids: tids +[0]*(data.max_seq_len-len(tids)),pred_token_ids)\n",
        "pred_token_ids = np.array(list(pred_token_ids))\n",
        "\n",
        "predictions = model.predict(pred_token_ids).argmax(axis=-1)\n",
        "\n",
        "for text, label in zip(sentences, predictions):\n",
        "  print(\"text:\", text, \"\\nintent:\", classes[label])\n",
        "  print()"
      ],
      "execution_count": 47,
      "outputs": [
        {
          "output_type": "stream",
          "text": [
            "text: দয়া করে আমাকে একজনকে দিন \n",
            "intent: check_balance\n",
            "\n",
            "text: আমি একটা অ্যাকাউন্ট খুলতে চাই  \n",
            "intent: inform\n",
            "\n",
            "text: আমার ক্রেডিট কার্ডের ব্যালেন্স কি? \n",
            "intent: check_balance\n",
            "\n"
          ],
          "name": "stdout"
        }
      ]
    }
  ]
}